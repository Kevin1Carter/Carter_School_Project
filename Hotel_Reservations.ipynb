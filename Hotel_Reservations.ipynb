{
 "cells": [
  {
   "cell_type": "code",
   "execution_count": 1,
   "id": "4a917ba2",
   "metadata": {},
   "outputs": [],
   "source": [
    "import numpy as np \n",
    "import pandas as pd\n",
    "from sklearn import preprocessing\n",
    "import matplotlib.pyplot as plt \n",
    "import seaborn as sns"
   ]
  },
  {
   "cell_type": "code",
   "execution_count": 2,
   "id": "34d38dc2",
   "metadata": {},
   "outputs": [],
   "source": [
    "import os\n",
    "for dirname, _, filenames in os.walk('/kaggle/input'):\n",
    "    for filename in filenames:\n",
    "        print(os.path.join(dirname, filename))"
   ]
  },
  {
   "cell_type": "code",
   "execution_count": 7,
   "id": "f7113240",
   "metadata": {},
   "outputs": [
    {
     "data": {
      "text/html": [
       "<div>\n",
       "<style scoped>\n",
       "    .dataframe tbody tr th:only-of-type {\n",
       "        vertical-align: middle;\n",
       "    }\n",
       "\n",
       "    .dataframe tbody tr th {\n",
       "        vertical-align: top;\n",
       "    }\n",
       "\n",
       "    .dataframe thead th {\n",
       "        text-align: right;\n",
       "    }\n",
       "</style>\n",
       "<table border=\"1\" class=\"dataframe\">\n",
       "  <thead>\n",
       "    <tr style=\"text-align: right;\">\n",
       "      <th></th>\n",
       "      <th>Booking_ID</th>\n",
       "      <th>no_of_adults</th>\n",
       "      <th>no_of_children</th>\n",
       "      <th>no_of_weekend_nights</th>\n",
       "      <th>no_of_week_nights</th>\n",
       "      <th>type_of_meal_plan</th>\n",
       "      <th>required_car_parking_space</th>\n",
       "      <th>room_type_reserved</th>\n",
       "      <th>lead_time</th>\n",
       "      <th>arrival_year</th>\n",
       "      <th>arrival_month</th>\n",
       "      <th>arrival_date</th>\n",
       "      <th>market_segment_type</th>\n",
       "      <th>repeated_guest</th>\n",
       "      <th>no_of_previous_cancellations</th>\n",
       "      <th>no_of_previous_bookings_not_canceled</th>\n",
       "      <th>avg_price_per_room</th>\n",
       "      <th>no_of_special_requests</th>\n",
       "      <th>booking_status</th>\n",
       "    </tr>\n",
       "  </thead>\n",
       "  <tbody>\n",
       "    <tr>\n",
       "      <th>0</th>\n",
       "      <td>INN00001</td>\n",
       "      <td>2</td>\n",
       "      <td>0</td>\n",
       "      <td>1</td>\n",
       "      <td>2</td>\n",
       "      <td>Meal Plan 1</td>\n",
       "      <td>0</td>\n",
       "      <td>Room_Type 1</td>\n",
       "      <td>224</td>\n",
       "      <td>2017</td>\n",
       "      <td>10</td>\n",
       "      <td>2</td>\n",
       "      <td>Offline</td>\n",
       "      <td>0</td>\n",
       "      <td>0</td>\n",
       "      <td>0</td>\n",
       "      <td>65.00</td>\n",
       "      <td>0</td>\n",
       "      <td>Not_Canceled</td>\n",
       "    </tr>\n",
       "    <tr>\n",
       "      <th>1</th>\n",
       "      <td>INN00002</td>\n",
       "      <td>2</td>\n",
       "      <td>0</td>\n",
       "      <td>2</td>\n",
       "      <td>3</td>\n",
       "      <td>Not Selected</td>\n",
       "      <td>0</td>\n",
       "      <td>Room_Type 1</td>\n",
       "      <td>5</td>\n",
       "      <td>2018</td>\n",
       "      <td>11</td>\n",
       "      <td>6</td>\n",
       "      <td>Online</td>\n",
       "      <td>0</td>\n",
       "      <td>0</td>\n",
       "      <td>0</td>\n",
       "      <td>106.68</td>\n",
       "      <td>1</td>\n",
       "      <td>Not_Canceled</td>\n",
       "    </tr>\n",
       "    <tr>\n",
       "      <th>2</th>\n",
       "      <td>INN00003</td>\n",
       "      <td>1</td>\n",
       "      <td>0</td>\n",
       "      <td>2</td>\n",
       "      <td>1</td>\n",
       "      <td>Meal Plan 1</td>\n",
       "      <td>0</td>\n",
       "      <td>Room_Type 1</td>\n",
       "      <td>1</td>\n",
       "      <td>2018</td>\n",
       "      <td>2</td>\n",
       "      <td>28</td>\n",
       "      <td>Online</td>\n",
       "      <td>0</td>\n",
       "      <td>0</td>\n",
       "      <td>0</td>\n",
       "      <td>60.00</td>\n",
       "      <td>0</td>\n",
       "      <td>Canceled</td>\n",
       "    </tr>\n",
       "    <tr>\n",
       "      <th>3</th>\n",
       "      <td>INN00004</td>\n",
       "      <td>2</td>\n",
       "      <td>0</td>\n",
       "      <td>0</td>\n",
       "      <td>2</td>\n",
       "      <td>Meal Plan 1</td>\n",
       "      <td>0</td>\n",
       "      <td>Room_Type 1</td>\n",
       "      <td>211</td>\n",
       "      <td>2018</td>\n",
       "      <td>5</td>\n",
       "      <td>20</td>\n",
       "      <td>Online</td>\n",
       "      <td>0</td>\n",
       "      <td>0</td>\n",
       "      <td>0</td>\n",
       "      <td>100.00</td>\n",
       "      <td>0</td>\n",
       "      <td>Canceled</td>\n",
       "    </tr>\n",
       "    <tr>\n",
       "      <th>4</th>\n",
       "      <td>INN00005</td>\n",
       "      <td>2</td>\n",
       "      <td>0</td>\n",
       "      <td>1</td>\n",
       "      <td>1</td>\n",
       "      <td>Not Selected</td>\n",
       "      <td>0</td>\n",
       "      <td>Room_Type 1</td>\n",
       "      <td>48</td>\n",
       "      <td>2018</td>\n",
       "      <td>4</td>\n",
       "      <td>11</td>\n",
       "      <td>Online</td>\n",
       "      <td>0</td>\n",
       "      <td>0</td>\n",
       "      <td>0</td>\n",
       "      <td>94.50</td>\n",
       "      <td>0</td>\n",
       "      <td>Canceled</td>\n",
       "    </tr>\n",
       "  </tbody>\n",
       "</table>\n",
       "</div>"
      ],
      "text/plain": [
       "  Booking_ID  no_of_adults  no_of_children  no_of_weekend_nights  \\\n",
       "0   INN00001             2               0                     1   \n",
       "1   INN00002             2               0                     2   \n",
       "2   INN00003             1               0                     2   \n",
       "3   INN00004             2               0                     0   \n",
       "4   INN00005             2               0                     1   \n",
       "\n",
       "   no_of_week_nights type_of_meal_plan  required_car_parking_space  \\\n",
       "0                  2       Meal Plan 1                           0   \n",
       "1                  3      Not Selected                           0   \n",
       "2                  1       Meal Plan 1                           0   \n",
       "3                  2       Meal Plan 1                           0   \n",
       "4                  1      Not Selected                           0   \n",
       "\n",
       "  room_type_reserved  lead_time  arrival_year  arrival_month  arrival_date  \\\n",
       "0        Room_Type 1        224          2017             10             2   \n",
       "1        Room_Type 1          5          2018             11             6   \n",
       "2        Room_Type 1          1          2018              2            28   \n",
       "3        Room_Type 1        211          2018              5            20   \n",
       "4        Room_Type 1         48          2018              4            11   \n",
       "\n",
       "  market_segment_type  repeated_guest  no_of_previous_cancellations  \\\n",
       "0             Offline               0                             0   \n",
       "1              Online               0                             0   \n",
       "2              Online               0                             0   \n",
       "3              Online               0                             0   \n",
       "4              Online               0                             0   \n",
       "\n",
       "   no_of_previous_bookings_not_canceled  avg_price_per_room  \\\n",
       "0                                     0               65.00   \n",
       "1                                     0              106.68   \n",
       "2                                     0               60.00   \n",
       "3                                     0              100.00   \n",
       "4                                     0               94.50   \n",
       "\n",
       "   no_of_special_requests booking_status  \n",
       "0                       0   Not_Canceled  \n",
       "1                       1   Not_Canceled  \n",
       "2                       0       Canceled  \n",
       "3                       0       Canceled  \n",
       "4                       0       Canceled  "
      ]
     },
     "execution_count": 7,
     "metadata": {},
     "output_type": "execute_result"
    }
   ],
   "source": [
    "df = pd.read_csv(r'C:\\Users\\kevin\\OneDrive\\Documents\\Hotel_Reservations.csv')\n",
    "df.head()"
   ]
  },
  {
   "cell_type": "code",
   "execution_count": 8,
   "id": "ebb42504",
   "metadata": {},
   "outputs": [
    {
     "name": "stdout",
     "output_type": "stream",
     "text": [
      "Booking_ID :  ['INN00001' 'INN00002' 'INN00003' ... 'INN36273' 'INN36274' 'INN36275']\n",
      "# unique values:  36275 \n",
      "\n",
      "no_of_adults :  [2 1 3 0 4]\n",
      "# unique values:  5 \n",
      "\n",
      "no_of_children :  [ 0  2  1  3 10  9]\n",
      "# unique values:  6 \n",
      "\n",
      "no_of_weekend_nights :  [1 2 0 4 3 6 5 7]\n",
      "# unique values:  8 \n",
      "\n",
      "no_of_week_nights :  [ 2  3  1  4  5  0 10  6 11  7 15  9 13  8 14 12 17 16]\n",
      "# unique values:  18 \n",
      "\n",
      "type_of_meal_plan :  ['Meal Plan 1' 'Not Selected' 'Meal Plan 2' 'Meal Plan 3']\n",
      "# unique values:  4 \n",
      "\n",
      "required_car_parking_space :  [0 1]\n",
      "# unique values:  2 \n",
      "\n",
      "room_type_reserved :  ['Room_Type 1' 'Room_Type 4' 'Room_Type 2' 'Room_Type 6' 'Room_Type 5'\n",
      " 'Room_Type 7' 'Room_Type 3']\n",
      "# unique values:  7 \n",
      "\n",
      "lead_time :  [224   5   1 211  48 346  34  83 121  44   0  35  30  95  47 256  99  12\n",
      " 122   2  37 130  60  56   3 107  72  23 289 247 186  64  96  41  55 146\n",
      "  32  57   7 124 169   6  51  13 100 139 117  39  86  19 192 179  26  74\n",
      " 143 177  18 267 155  46 128  20  40 196 188  17 110  68  73  92 171 134\n",
      " 320 118 189  16  24   8  10 182 116 123 105 443 317 286 148  14  85  25\n",
      "  28  80  11 162  82  27 245 266 112  88  69 273   4  97  31  62 197 280\n",
      " 185 160 104  22 292 109 126 303  81  54  15 161 147  87 127 418 156  58\n",
      " 433 111 195 119  59  78 335 103  70  76 144  49  77  36  79  21  33 164\n",
      " 152  43 102  71 209  93  53 302 239  45 167 113  84   9 166 174  61 151\n",
      "  52  67 282  38 175  89 133  65  66  50 159 386 115 237 125  91  29 221\n",
      " 213 198  75 180 236 120 230  63 136 309 157 268 217  94 305  98  42 154\n",
      " 330 137 184 232 304 114 257 265 191 101 259 149 170 271 207 108 210 222\n",
      " 296 194 145 153 275 158 301 349 200 315 181 263 176 141 270 150 359 244\n",
      " 219 142 138 276 178 163 377 290 216 226 258 254 193 131 208 215 190 381\n",
      " 231 248 106 308 140 173 168 172  90 249 205 129 212 135 220 277 253 132\n",
      " 183 255 223 336 288 229 319 199 203 228 246 235 294 281 202 361 287 291\n",
      " 313 206 269 279 261 214 274 250 187 240 241 323 322 227 225 233 338 283\n",
      " 327 204 352 165 251 299 314 285 238 328 278 332 243 201 307 272 252 242\n",
      " 284 297 324 260 262 326 295 218 234 353 300 355 306 298 331 341 318 333\n",
      " 372 311 310 345 264 325 293 348 350 351]\n",
      "# unique values:  352 \n",
      "\n",
      "arrival_year :  [2017 2018]\n",
      "# unique values:  2 \n",
      "\n",
      "arrival_month :  [10 11  2  5  4  9 12  7  6  8  3  1]\n",
      "# unique values:  12 \n",
      "\n",
      "arrival_date :  [ 2  6 28 20 11 13 15 26 18 30  5 10  4 25 22 21 19 17  7  9 27  1 29 16\n",
      "  3 24 14 31 23  8 12]\n",
      "# unique values:  31 \n",
      "\n",
      "market_segment_type :  ['Offline' 'Online' 'Corporate' 'Aviation' 'Complementary']\n",
      "# unique values:  5 \n",
      "\n",
      "repeated_guest :  [0 1]\n",
      "# unique values:  2 \n",
      "\n",
      "no_of_previous_cancellations :  [ 0  3  1  2 11  4  5 13  6]\n",
      "# unique values:  9 \n",
      "\n",
      "no_of_previous_bookings_not_canceled :  [ 0  5  1  3  4 12 19  2 15 17  7 20 16 50 13  6 14 34 18  8 10 23 11 49\n",
      " 47 53  9 33 22 24 52 21 48 28 39 25 31 38 26 51 42 37 35 56 44 27 32 55\n",
      " 45 30 57 46 54 43 58 41 29 40 36]\n",
      "# unique values:  59 \n",
      "\n",
      "avg_price_per_room :  [ 65.   106.68  60.   ... 118.43 137.25 167.8 ]\n",
      "# unique values:  3930 \n",
      "\n",
      "no_of_special_requests :  [0 1 3 2 4 5]\n",
      "# unique values:  6 \n",
      "\n",
      "booking_status :  ['Not_Canceled' 'Canceled']\n",
      "# unique values:  2 \n",
      "\n"
     ]
    }
   ],
   "source": [
    "def get_unique_values(df):\n",
    "    for col in df.columns:\n",
    "        print(col, ': ', df[col].unique())\n",
    "        print('# unique values: ', df[col].nunique(), '\\n')\n",
    "get_unique_values(df)"
   ]
  },
  {
   "cell_type": "code",
   "execution_count": 9,
   "id": "383109df",
   "metadata": {},
   "outputs": [
    {
     "data": {
      "text/html": [
       "<div>\n",
       "<style scoped>\n",
       "    .dataframe tbody tr th:only-of-type {\n",
       "        vertical-align: middle;\n",
       "    }\n",
       "\n",
       "    .dataframe tbody tr th {\n",
       "        vertical-align: top;\n",
       "    }\n",
       "\n",
       "    .dataframe thead th {\n",
       "        text-align: right;\n",
       "    }\n",
       "</style>\n",
       "<table border=\"1\" class=\"dataframe\">\n",
       "  <thead>\n",
       "    <tr style=\"text-align: right;\">\n",
       "      <th></th>\n",
       "      <th>arrival_year</th>\n",
       "      <th>arrival_month</th>\n",
       "      <th>arrival_date</th>\n",
       "    </tr>\n",
       "  </thead>\n",
       "  <tbody>\n",
       "    <tr>\n",
       "      <th>583</th>\n",
       "      <td>2017</td>\n",
       "      <td>7</td>\n",
       "      <td>1</td>\n",
       "    </tr>\n",
       "    <tr>\n",
       "      <th>695</th>\n",
       "      <td>2017</td>\n",
       "      <td>7</td>\n",
       "      <td>1</td>\n",
       "    </tr>\n",
       "    <tr>\n",
       "      <th>769</th>\n",
       "      <td>2017</td>\n",
       "      <td>7</td>\n",
       "      <td>1</td>\n",
       "    </tr>\n",
       "    <tr>\n",
       "      <th>1132</th>\n",
       "      <td>2017</td>\n",
       "      <td>7</td>\n",
       "      <td>1</td>\n",
       "    </tr>\n",
       "    <tr>\n",
       "      <th>1775</th>\n",
       "      <td>2017</td>\n",
       "      <td>7</td>\n",
       "      <td>1</td>\n",
       "    </tr>\n",
       "    <tr>\n",
       "      <th>...</th>\n",
       "      <td>...</td>\n",
       "      <td>...</td>\n",
       "      <td>...</td>\n",
       "    </tr>\n",
       "    <tr>\n",
       "      <th>32027</th>\n",
       "      <td>2018</td>\n",
       "      <td>12</td>\n",
       "      <td>31</td>\n",
       "    </tr>\n",
       "    <tr>\n",
       "      <th>32894</th>\n",
       "      <td>2018</td>\n",
       "      <td>12</td>\n",
       "      <td>31</td>\n",
       "    </tr>\n",
       "    <tr>\n",
       "      <th>33442</th>\n",
       "      <td>2018</td>\n",
       "      <td>12</td>\n",
       "      <td>31</td>\n",
       "    </tr>\n",
       "    <tr>\n",
       "      <th>33902</th>\n",
       "      <td>2018</td>\n",
       "      <td>12</td>\n",
       "      <td>31</td>\n",
       "    </tr>\n",
       "    <tr>\n",
       "      <th>35130</th>\n",
       "      <td>2018</td>\n",
       "      <td>12</td>\n",
       "      <td>31</td>\n",
       "    </tr>\n",
       "  </tbody>\n",
       "</table>\n",
       "<p>36275 rows × 3 columns</p>\n",
       "</div>"
      ],
      "text/plain": [
       "       arrival_year  arrival_month  arrival_date\n",
       "583            2017              7             1\n",
       "695            2017              7             1\n",
       "769            2017              7             1\n",
       "1132           2017              7             1\n",
       "1775           2017              7             1\n",
       "...             ...            ...           ...\n",
       "32027          2018             12            31\n",
       "32894          2018             12            31\n",
       "33442          2018             12            31\n",
       "33902          2018             12            31\n",
       "35130          2018             12            31\n",
       "\n",
       "[36275 rows x 3 columns]"
      ]
     },
     "execution_count": 9,
     "metadata": {},
     "output_type": "execute_result"
    }
   ],
   "source": [
    "df.sort_values(['arrival_year', 'arrival_month', 'arrival_date'])[['arrival_year', 'arrival_month', 'arrival_date']]"
   ]
  },
  {
   "cell_type": "code",
   "execution_count": 10,
   "id": "9c5b8f16",
   "metadata": {},
   "outputs": [
    {
     "data": {
      "image/png": "[encoded data removed]",
      "text/plain": [
       "<Figure size 432x288 with 1 Axes>"
      ]
     },
     "metadata": {
      "needs_background": "light"
     },
     "output_type": "display_data"
    }
   ],
   "source": [
    "sns.countplot(x='booking_status', data = df, palette = 'hls')\n",
    "plt.show()"
   ]
  },
  {
   "cell_type": "code",
   "execution_count": 11,
   "id": "4525b030",
   "metadata": {},
   "outputs": [
    {
     "name": "stdout",
     "output_type": "stream",
     "text": [
      "percentage of no subscription is 67.23638869745004\n",
      "percentage of subscription 32.76361130254997\n"
     ]
    }
   ],
   "source": [
    "count_no_sub = len(df[df['booking_status']=='Not_Canceled'])\n",
    "count_sub = len(df[df['booking_status']=='Canceled'])\n",
    "pct_of_no_sub = count_no_sub/(count_no_sub+count_sub)\n",
    "print(\"percentage of no subscription is\", pct_of_no_sub*100)\n",
    "pct_of_sub = count_sub/(count_no_sub+count_sub)\n",
    "print(\"percentage of subscription\", pct_of_sub*100)"
   ]
  },
  {
   "cell_type": "code",
   "execution_count": 12,
   "id": "d7c07b54",
   "metadata": {},
   "outputs": [
    {
     "data": {
      "text/html": [
       "<div>\n",
       "<style scoped>\n",
       "    .dataframe tbody tr th:only-of-type {\n",
       "        vertical-align: middle;\n",
       "    }\n",
       "\n",
       "    .dataframe tbody tr th {\n",
       "        vertical-align: top;\n",
       "    }\n",
       "\n",
       "    .dataframe thead th {\n",
       "        text-align: right;\n",
       "    }\n",
       "</style>\n",
       "<table border=\"1\" class=\"dataframe\">\n",
       "  <thead>\n",
       "    <tr style=\"text-align: right;\">\n",
       "      <th></th>\n",
       "      <th>no_of_adults</th>\n",
       "      <th>no_of_children</th>\n",
       "      <th>no_of_weekend_nights</th>\n",
       "      <th>no_of_week_nights</th>\n",
       "      <th>required_car_parking_space</th>\n",
       "      <th>lead_time</th>\n",
       "      <th>arrival_year</th>\n",
       "      <th>arrival_month</th>\n",
       "      <th>arrival_date</th>\n",
       "      <th>repeated_guest</th>\n",
       "      <th>no_of_previous_cancellations</th>\n",
       "      <th>no_of_previous_bookings_not_canceled</th>\n",
       "      <th>avg_price_per_room</th>\n",
       "      <th>no_of_special_requests</th>\n",
       "    </tr>\n",
       "    <tr>\n",
       "      <th>booking_status</th>\n",
       "      <th></th>\n",
       "      <th></th>\n",
       "      <th></th>\n",
       "      <th></th>\n",
       "      <th></th>\n",
       "      <th></th>\n",
       "      <th></th>\n",
       "      <th></th>\n",
       "      <th></th>\n",
       "      <th></th>\n",
       "      <th></th>\n",
       "      <th></th>\n",
       "      <th></th>\n",
       "      <th></th>\n",
       "    </tr>\n",
       "  </thead>\n",
       "  <tbody>\n",
       "    <tr>\n",
       "      <th>Canceled</th>\n",
       "      <td>1.909550</td>\n",
       "      <td>0.124358</td>\n",
       "      <td>0.887505</td>\n",
       "      <td>2.392259</td>\n",
       "      <td>0.009592</td>\n",
       "      <td>139.215482</td>\n",
       "      <td>2017.919142</td>\n",
       "      <td>7.374253</td>\n",
       "      <td>15.730080</td>\n",
       "      <td>0.001346</td>\n",
       "      <td>0.005553</td>\n",
       "      <td>0.002188</td>\n",
       "      <td>110.589966</td>\n",
       "      <td>0.334623</td>\n",
       "    </tr>\n",
       "    <tr>\n",
       "      <th>Not_Canceled</th>\n",
       "      <td>1.813489</td>\n",
       "      <td>0.095982</td>\n",
       "      <td>0.773309</td>\n",
       "      <td>2.112710</td>\n",
       "      <td>0.041410</td>\n",
       "      <td>58.927224</td>\n",
       "      <td>2017.772325</td>\n",
       "      <td>7.447724</td>\n",
       "      <td>15.532144</td>\n",
       "      <td>0.037474</td>\n",
       "      <td>0.032021</td>\n",
       "      <td>0.227101</td>\n",
       "      <td>99.931412</td>\n",
       "      <td>0.758549</td>\n",
       "    </tr>\n",
       "  </tbody>\n",
       "</table>\n",
       "</div>"
      ],
      "text/plain": [
       "                no_of_adults  no_of_children  no_of_weekend_nights  \\\n",
       "booking_status                                                       \n",
       "Canceled            1.909550        0.124358              0.887505   \n",
       "Not_Canceled        1.813489        0.095982              0.773309   \n",
       "\n",
       "                no_of_week_nights  required_car_parking_space   lead_time  \\\n",
       "booking_status                                                              \n",
       "Canceled                 2.392259                    0.009592  139.215482   \n",
       "Not_Canceled             2.112710                    0.041410   58.927224   \n",
       "\n",
       "                arrival_year  arrival_month  arrival_date  repeated_guest  \\\n",
       "booking_status                                                              \n",
       "Canceled         2017.919142       7.374253     15.730080        0.001346   \n",
       "Not_Canceled     2017.772325       7.447724     15.532144        0.037474   \n",
       "\n",
       "                no_of_previous_cancellations  \\\n",
       "booking_status                                 \n",
       "Canceled                            0.005553   \n",
       "Not_Canceled                        0.032021   \n",
       "\n",
       "                no_of_previous_bookings_not_canceled  avg_price_per_room  \\\n",
       "booking_status                                                             \n",
       "Canceled                                    0.002188          110.589966   \n",
       "Not_Canceled                                0.227101           99.931412   \n",
       "\n",
       "                no_of_special_requests  \n",
       "booking_status                          \n",
       "Canceled                      0.334623  \n",
       "Not_Canceled                  0.758549  "
      ]
     },
     "execution_count": 12,
     "metadata": {},
     "output_type": "execute_result"
    }
   ],
   "source": [
    "df.groupby('booking_status').mean()"
   ]
  },
  {
   "cell_type": "code",
   "execution_count": 13,
   "id": "5cbe1fd9",
   "metadata": {},
   "outputs": [
    {
     "data": {
      "text/html": [
       "<div>\n",
       "<style scoped>\n",
       "    .dataframe tbody tr th:only-of-type {\n",
       "        vertical-align: middle;\n",
       "    }\n",
       "\n",
       "    .dataframe tbody tr th {\n",
       "        vertical-align: top;\n",
       "    }\n",
       "\n",
       "    .dataframe thead th {\n",
       "        text-align: right;\n",
       "    }\n",
       "</style>\n",
       "<table border=\"1\" class=\"dataframe\">\n",
       "  <thead>\n",
       "    <tr style=\"text-align: right;\">\n",
       "      <th></th>\n",
       "      <th>no_of_adults</th>\n",
       "      <th>no_of_children</th>\n",
       "      <th>no_of_weekend_nights</th>\n",
       "      <th>no_of_week_nights</th>\n",
       "      <th>required_car_parking_space</th>\n",
       "      <th>lead_time</th>\n",
       "      <th>arrival_year</th>\n",
       "      <th>arrival_month</th>\n",
       "      <th>arrival_date</th>\n",
       "      <th>repeated_guest</th>\n",
       "      <th>no_of_previous_cancellations</th>\n",
       "      <th>no_of_previous_bookings_not_canceled</th>\n",
       "      <th>avg_price_per_room</th>\n",
       "      <th>no_of_special_requests</th>\n",
       "    </tr>\n",
       "    <tr>\n",
       "      <th>room_type_reserved</th>\n",
       "      <th></th>\n",
       "      <th></th>\n",
       "      <th></th>\n",
       "      <th></th>\n",
       "      <th></th>\n",
       "      <th></th>\n",
       "      <th></th>\n",
       "      <th></th>\n",
       "      <th></th>\n",
       "      <th></th>\n",
       "      <th></th>\n",
       "      <th></th>\n",
       "      <th></th>\n",
       "      <th></th>\n",
       "    </tr>\n",
       "  </thead>\n",
       "  <tbody>\n",
       "    <tr>\n",
       "      <th>Room_Type 1</th>\n",
       "      <td>1.770316</td>\n",
       "      <td>0.049378</td>\n",
       "      <td>0.779844</td>\n",
       "      <td>2.125133</td>\n",
       "      <td>0.027693</td>\n",
       "      <td>89.642943</td>\n",
       "      <td>2017.798969</td>\n",
       "      <td>7.445965</td>\n",
       "      <td>15.434447</td>\n",
       "      <td>0.028724</td>\n",
       "      <td>0.026129</td>\n",
       "      <td>0.169428</td>\n",
       "      <td>95.918532</td>\n",
       "      <td>0.557803</td>\n",
       "    </tr>\n",
       "    <tr>\n",
       "      <th>Room_Type 2</th>\n",
       "      <td>1.579480</td>\n",
       "      <td>0.588150</td>\n",
       "      <td>0.929191</td>\n",
       "      <td>2.316474</td>\n",
       "      <td>0.049133</td>\n",
       "      <td>101.021676</td>\n",
       "      <td>2017.787572</td>\n",
       "      <td>6.998555</td>\n",
       "      <td>16.507225</td>\n",
       "      <td>0.010116</td>\n",
       "      <td>0.000000</td>\n",
       "      <td>0.034682</td>\n",
       "      <td>87.848555</td>\n",
       "      <td>0.761561</td>\n",
       "    </tr>\n",
       "    <tr>\n",
       "      <th>Room_Type 3</th>\n",
       "      <td>1.571429</td>\n",
       "      <td>0.000000</td>\n",
       "      <td>0.571429</td>\n",
       "      <td>2.000000</td>\n",
       "      <td>0.000000</td>\n",
       "      <td>69.571429</td>\n",
       "      <td>2017.571429</td>\n",
       "      <td>10.142857</td>\n",
       "      <td>15.142857</td>\n",
       "      <td>0.000000</td>\n",
       "      <td>0.000000</td>\n",
       "      <td>0.000000</td>\n",
       "      <td>73.678571</td>\n",
       "      <td>0.142857</td>\n",
       "    </tr>\n",
       "    <tr>\n",
       "      <th>Room_Type 4</th>\n",
       "      <td>2.192505</td>\n",
       "      <td>0.038138</td>\n",
       "      <td>0.933465</td>\n",
       "      <td>2.541027</td>\n",
       "      <td>0.037642</td>\n",
       "      <td>69.205712</td>\n",
       "      <td>2017.910187</td>\n",
       "      <td>7.335645</td>\n",
       "      <td>16.077266</td>\n",
       "      <td>0.011062</td>\n",
       "      <td>0.011227</td>\n",
       "      <td>0.059766</td>\n",
       "      <td>125.287317</td>\n",
       "      <td>0.842331</td>\n",
       "    </tr>\n",
       "    <tr>\n",
       "      <th>Room_Type 5</th>\n",
       "      <td>1.739623</td>\n",
       "      <td>0.132075</td>\n",
       "      <td>0.758491</td>\n",
       "      <td>2.196226</td>\n",
       "      <td>0.022642</td>\n",
       "      <td>59.547170</td>\n",
       "      <td>2017.924528</td>\n",
       "      <td>7.498113</td>\n",
       "      <td>15.611321</td>\n",
       "      <td>0.064151</td>\n",
       "      <td>0.018868</td>\n",
       "      <td>0.550943</td>\n",
       "      <td>123.733623</td>\n",
       "      <td>0.335849</td>\n",
       "    </tr>\n",
       "    <tr>\n",
       "      <th>Room_Type 6</th>\n",
       "      <td>1.994824</td>\n",
       "      <td>1.688406</td>\n",
       "      <td>0.883023</td>\n",
       "      <td>2.330228</td>\n",
       "      <td>0.068323</td>\n",
       "      <td>61.015528</td>\n",
       "      <td>2017.863354</td>\n",
       "      <td>7.546584</td>\n",
       "      <td>16.583851</td>\n",
       "      <td>0.010352</td>\n",
       "      <td>0.006211</td>\n",
       "      <td>0.078675</td>\n",
       "      <td>182.212836</td>\n",
       "      <td>0.904762</td>\n",
       "    </tr>\n",
       "    <tr>\n",
       "      <th>Room_Type 7</th>\n",
       "      <td>2.246835</td>\n",
       "      <td>0.797468</td>\n",
       "      <td>0.740506</td>\n",
       "      <td>2.151899</td>\n",
       "      <td>0.069620</td>\n",
       "      <td>37.094937</td>\n",
       "      <td>2017.917722</td>\n",
       "      <td>7.689873</td>\n",
       "      <td>16.101266</td>\n",
       "      <td>0.132911</td>\n",
       "      <td>0.208861</td>\n",
       "      <td>1.208861</td>\n",
       "      <td>155.198291</td>\n",
       "      <td>1.227848</td>\n",
       "    </tr>\n",
       "  </tbody>\n",
       "</table>\n",
       "</div>"
      ],
      "text/plain": [
       "                    no_of_adults  no_of_children  no_of_weekend_nights  \\\n",
       "room_type_reserved                                                       \n",
       "Room_Type 1             1.770316        0.049378              0.779844   \n",
       "Room_Type 2             1.579480        0.588150              0.929191   \n",
       "Room_Type 3             1.571429        0.000000              0.571429   \n",
       "Room_Type 4             2.192505        0.038138              0.933465   \n",
       "Room_Type 5             1.739623        0.132075              0.758491   \n",
       "Room_Type 6             1.994824        1.688406              0.883023   \n",
       "Room_Type 7             2.246835        0.797468              0.740506   \n",
       "\n",
       "                    no_of_week_nights  required_car_parking_space   lead_time  \\\n",
       "room_type_reserved                                                              \n",
       "Room_Type 1                  2.125133                    0.027693   89.642943   \n",
       "Room_Type 2                  2.316474                    0.049133  101.021676   \n",
       "Room_Type 3                  2.000000                    0.000000   69.571429   \n",
       "Room_Type 4                  2.541027                    0.037642   69.205712   \n",
       "Room_Type 5                  2.196226                    0.022642   59.547170   \n",
       "Room_Type 6                  2.330228                    0.068323   61.015528   \n",
       "Room_Type 7                  2.151899                    0.069620   37.094937   \n",
       "\n",
       "                    arrival_year  arrival_month  arrival_date  repeated_guest  \\\n",
       "room_type_reserved                                                              \n",
       "Room_Type 1          2017.798969       7.445965     15.434447        0.028724   \n",
       "Room_Type 2          2017.787572       6.998555     16.507225        0.010116   \n",
       "Room_Type 3          2017.571429      10.142857     15.142857        0.000000   \n",
       "Room_Type 4          2017.910187       7.335645     16.077266        0.011062   \n",
       "Room_Type 5          2017.924528       7.498113     15.611321        0.064151   \n",
       "Room_Type 6          2017.863354       7.546584     16.583851        0.010352   \n",
       "Room_Type 7          2017.917722       7.689873     16.101266        0.132911   \n",
       "\n",
       "                    no_of_previous_cancellations  \\\n",
       "room_type_reserved                                 \n",
       "Room_Type 1                             0.026129   \n",
       "Room_Type 2                             0.000000   \n",
       "Room_Type 3                             0.000000   \n",
       "Room_Type 4                             0.011227   \n",
       "Room_Type 5                             0.018868   \n",
       "Room_Type 6                             0.006211   \n",
       "Room_Type 7                             0.208861   \n",
       "\n",
       "                    no_of_previous_bookings_not_canceled  avg_price_per_room  \\\n",
       "room_type_reserved                                                             \n",
       "Room_Type 1                                     0.169428           95.918532   \n",
       "Room_Type 2                                     0.034682           87.848555   \n",
       "Room_Type 3                                     0.000000           73.678571   \n",
       "Room_Type 4                                     0.059766          125.287317   \n",
       "Room_Type 5                                     0.550943          123.733623   \n",
       "Room_Type 6                                     0.078675          182.212836   \n",
       "Room_Type 7                                     1.208861          155.198291   \n",
       "\n",
       "                    no_of_special_requests  \n",
       "room_type_reserved                          \n",
       "Room_Type 1                       0.557803  \n",
       "Room_Type 2                       0.761561  \n",
       "Room_Type 3                       0.142857  \n",
       "Room_Type 4                       0.842331  \n",
       "Room_Type 5                       0.335849  \n",
       "Room_Type 6                       0.904762  \n",
       "Room_Type 7                       1.227848  "
      ]
     },
     "execution_count": 13,
     "metadata": {},
     "output_type": "execute_result"
    }
   ],
   "source": [
    "df.groupby('room_type_reserved').mean()"
   ]
  },
  {
   "cell_type": "code",
   "execution_count": 14,
   "id": "1b92cf24",
   "metadata": {},
   "outputs": [
    {
     "data": {
      "text/plain": [
       "<AxesSubplot:xlabel='no_of_adults'>"
      ]
     },
     "execution_count": 14,
     "metadata": {},
     "output_type": "execute_result"
    },
    {
     "data": {
      "image/png": "[encoded data removed]",
      "text/plain": [
       "<Figure size 432x288 with 1 Axes>"
      ]
     },
     "metadata": {
      "needs_background": "light"
     },
     "output_type": "display_data"
    }
   ],
   "source": [
    "table = pd.crosstab(df['no_of_adults'], df['booking_status'])\n",
    "table.div(table.sum(1).astype(float), axis=0).plot(kind='bar', stacked=True)"
   ]
  },
  {
   "cell_type": "code",
   "execution_count": 15,
   "id": "049d88d6",
   "metadata": {},
   "outputs": [
    {
     "data": {
      "text/plain": [
       "<AxesSubplot:xlabel='no_of_children'>"
      ]
     },
     "execution_count": 15,
     "metadata": {},
     "output_type": "execute_result"
    },
    {
     "data": {
      "image/png": "[encoded data removed]",
      "text/plain": [
       "<Figure size 432x288 with 1 Axes>"
      ]
     },
     "metadata": {
      "needs_background": "light"
     },
     "output_type": "display_data"
    }
   ],
   "source": [
    "table = pd.crosstab(df['no_of_children'], df['booking_status'])\n",
    "table.div(table.sum(1).astype(float), axis=0).plot(kind='bar', stacked=True)"
   ]
  },
  {
   "cell_type": "code",
   "execution_count": 16,
   "id": "3922dd5c",
   "metadata": {},
   "outputs": [
    {
     "data": {
      "text/plain": [
       "<AxesSubplot:xlabel='no_of_weekend_nights'>"
      ]
     },
     "execution_count": 16,
     "metadata": {},
     "output_type": "execute_result"
    },
    {
     "data": {
      "image/png": "[encoded data removed]",
      "text/plain": [
       "<Figure size 432x288 with 1 Axes>"
      ]
     },
     "metadata": {
      "needs_background": "light"
     },
     "output_type": "display_data"
    }
   ],
   "source": [
    "table = pd.crosstab(df['no_of_weekend_nights'], df['booking_status'])\n",
    "table.div(table.sum(1).astype(float), axis=0).plot(kind='bar', stacked=True)"
   ]
  },
  {
   "cell_type": "code",
   "execution_count": 17,
   "id": "6c984f3a",
   "metadata": {},
   "outputs": [
    {
     "data": {
      "text/plain": [
       "<AxesSubplot:xlabel='required_car_parking_space'>"
      ]
     },
     "execution_count": 17,
     "metadata": {},
     "output_type": "execute_result"
    },
    {
     "data": {
      "image/png": "[encoded data removed]",
      "text/plain": [
       "<Figure size 432x288 with 1 Axes>"
      ]
     },
     "metadata": {
      "needs_background": "light"
     },
     "output_type": "display_data"
    }
   ],
   "source": [
    "table = pd.crosstab(df['required_car_parking_space'], df['booking_status'])\n",
    "table.div(table.sum(1).astype(float), axis=0).plot(kind='bar', stacked=True)"
   ]
  },
  {
   "cell_type": "code",
   "execution_count": 18,
   "id": "02b724bc",
   "metadata": {},
   "outputs": [
    {
     "data": {
      "text/plain": [
       "<AxesSubplot:xlabel='arrival_year'>"
      ]
     },
     "execution_count": 18,
     "metadata": {},
     "output_type": "execute_result"
    },
    {
     "data": {
      "image/png": "[encoded data removed]",
      "text/plain": [
       "<Figure size 432x288 with 1 Axes>"
      ]
     },
     "metadata": {
      "needs_background": "light"
     },
     "output_type": "display_data"
    }
   ],
   "source": [
    "table = pd.crosstab(df['arrival_year'], df['booking_status'])\n",
    "table.div(table.sum(1).astype(float), axis=0).plot(kind='bar', stacked=True)"
   ]
  },
  {
   "cell_type": "code",
   "execution_count": 19,
   "id": "535a85ce",
   "metadata": {},
   "outputs": [
    {
     "data": {
      "text/plain": [
       "<AxesSubplot:xlabel='room_type_reserved'>"
      ]
     },
     "execution_count": 19,
     "metadata": {},
     "output_type": "execute_result"
    },
    {
     "data": {
      "image/png": "[encoded data removed]",
      "text/plain": [
       "<Figure size 432x288 with 1 Axes>"
      ]
     },
     "metadata": {
      "needs_background": "light"
     },
     "output_type": "display_data"
    }
   ],
   "source": [
    "table = pd.crosstab(df['room_type_reserved'], df['booking_status'])\n",
    "table.div(table.sum(1).astype(float), axis=0).plot(kind='bar', stacked=True)"
   ]
  },
  {
   "cell_type": "code",
   "execution_count": 20,
   "id": "aece3dbb",
   "metadata": {},
   "outputs": [
    {
     "data": {
      "text/plain": [
       "<AxesSubplot:xlabel='no_of_week_nights'>"
      ]
     },
     "execution_count": 20,
     "metadata": {},
     "output_type": "execute_result"
    },
    {
     "data": {
      "image/png": "[encoded data removed]",
      "text/plain": [
       "<Figure size 432x288 with 1 Axes>"
      ]
     },
     "metadata": {
      "needs_background": "light"
     },
     "output_type": "display_data"
    }
   ],
   "source": [
    "table = pd.crosstab(df['no_of_week_nights'], df['booking_status'])\n",
    "table.div(table.sum(1).astype(float), axis=0).plot(kind='bar', stacked=True)"
   ]
  },
  {
   "cell_type": "code",
   "execution_count": 21,
   "id": "fcc90653",
   "metadata": {},
   "outputs": [
    {
     "data": {
      "text/plain": [
       "<AxesSubplot:xlabel='market_segment_type'>"
      ]
     },
     "execution_count": 21,
     "metadata": {},
     "output_type": "execute_result"
    },
    {
     "data": {
      "image/png": "[encoded data removed]",
      "text/plain": [
       "<Figure size 432x288 with 1 Axes>"
      ]
     },
     "metadata": {
      "needs_background": "light"
     },
     "output_type": "display_data"
    }
   ],
   "source": [
    "table = pd.crosstab(df['market_segment_type'], df['booking_status'])\n",
    "table.div(table.sum(1).astype(float), axis=0).plot(kind='bar', stacked=True)"
   ]
  },
  {
   "cell_type": "code",
   "execution_count": 22,
   "id": "3d02dcb4",
   "metadata": {},
   "outputs": [
    {
     "data": {
      "text/plain": [
       "<AxesSubplot:xlabel='arrival_month'>"
      ]
     },
     "execution_count": 22,
     "metadata": {},
     "output_type": "execute_result"
    },
    {
     "data": {
      "image/png": "[encoded data removed]",
      "text/plain": [
       "<Figure size 432x288 with 1 Axes>"
      ]
     },
     "metadata": {
      "needs_background": "light"
     },
     "output_type": "display_data"
    }
   ],
   "source": [
    "table = pd.crosstab(df['arrival_month'], df['booking_status'])\n",
    "table.plot(kind='bar')"
   ]
  },
  {
   "cell_type": "code",
   "execution_count": 23,
   "id": "3e0c0fb6",
   "metadata": {},
   "outputs": [
    {
     "data": {
      "image/png": "[encoded data removed]",
      "text/plain": [
       "<Figure size 432x288 with 1 Axes>"
      ]
     },
     "metadata": {
      "needs_background": "light"
     },
     "output_type": "display_data"
    }
   ],
   "source": [
    "canceled = df[df['booking_status']=='Canceled']['lead_time']\n",
    "not_canceled = df[df['booking_status']=='Not_Canceled']['lead_time']\n",
    "plt.hist(canceled, alpha=0.5, label='Canceled')\n",
    "plt.hist(not_canceled, alpha=0.5, label='Not Canceled')\n",
    "plt.legend()\n",
    "plt.xlabel('Lead Time')\n",
    "plt.show()"
   ]
  },
  {
   "cell_type": "code",
   "execution_count": 24,
   "id": "a8ea6233",
   "metadata": {},
   "outputs": [
    {
     "data": {
      "image/png": "[encoded data removed]",
      "text/plain": [
       "<Figure size 432x288 with 1 Axes>"
      ]
     },
     "metadata": {
      "needs_background": "light"
     },
     "output_type": "display_data"
    }
   ],
   "source": [
    "canceled = df[df['booking_status']=='Canceled']['avg_price_per_room']\n",
    "not_canceled = df[df['booking_status']=='Not_Canceled']['avg_price_per_room']\n",
    "plt.hist(canceled, alpha=0.5, label='Canceled')\n",
    "plt.hist(not_canceled, alpha=0.5, label='Not Canceled')\n",
    "plt.legend()\n",
    "plt.xlabel('Avg Price Per Room')\n",
    "plt.show()"
   ]
  },
  {
   "cell_type": "code",
   "execution_count": 25,
   "id": "b61427d8",
   "metadata": {},
   "outputs": [
    {
     "data": {
      "image/png": "[encoded data removed]",
      "text/plain": [
       "<Figure size 432x288 with 1 Axes>"
      ]
     },
     "metadata": {
      "needs_background": "light"
     },
     "output_type": "display_data"
    }
   ],
   "source": [
    "canceled = df[df['booking_status']=='Canceled']['no_of_week_nights']\n",
    "not_canceled = df[df['booking_status']=='Not_Canceled']['no_of_week_nights']\n",
    "plt.hist(canceled, alpha=0.5, label='Canceled', bins = 12)\n",
    "plt.hist(not_canceled, alpha=0.5, label='Not Canceled' ,bins = 12)\n",
    "plt.legend()\n",
    "plt.xlabel('# of week nights')\n",
    "plt.show()       "
   ]
  },
  {
   "cell_type": "code",
   "execution_count": 26,
   "id": "0f7509da",
   "metadata": {},
   "outputs": [
    {
     "data": {
      "text/html": [
       "<div>\n",
       "<style scoped>\n",
       "    .dataframe tbody tr th:only-of-type {\n",
       "        vertical-align: middle;\n",
       "    }\n",
       "\n",
       "    .dataframe tbody tr th {\n",
       "        vertical-align: top;\n",
       "    }\n",
       "\n",
       "    .dataframe thead th {\n",
       "        text-align: right;\n",
       "    }\n",
       "</style>\n",
       "<table border=\"1\" class=\"dataframe\">\n",
       "  <thead>\n",
       "    <tr style=\"text-align: right;\">\n",
       "      <th>booking_status</th>\n",
       "      <th>Canceled</th>\n",
       "      <th>Not_Canceled</th>\n",
       "    </tr>\n",
       "    <tr>\n",
       "      <th>no_of_previous_cancellations</th>\n",
       "      <th></th>\n",
       "      <th></th>\n",
       "    </tr>\n",
       "  </thead>\n",
       "  <tbody>\n",
       "    <tr>\n",
       "      <th>0</th>\n",
       "      <td>11869</td>\n",
       "      <td>24068</td>\n",
       "    </tr>\n",
       "    <tr>\n",
       "      <th>1</th>\n",
       "      <td>11</td>\n",
       "      <td>187</td>\n",
       "    </tr>\n",
       "    <tr>\n",
       "      <th>2</th>\n",
       "      <td>0</td>\n",
       "      <td>46</td>\n",
       "    </tr>\n",
       "    <tr>\n",
       "      <th>3</th>\n",
       "      <td>1</td>\n",
       "      <td>42</td>\n",
       "    </tr>\n",
       "    <tr>\n",
       "      <th>4</th>\n",
       "      <td>0</td>\n",
       "      <td>10</td>\n",
       "    </tr>\n",
       "    <tr>\n",
       "      <th>5</th>\n",
       "      <td>0</td>\n",
       "      <td>11</td>\n",
       "    </tr>\n",
       "    <tr>\n",
       "      <th>6</th>\n",
       "      <td>0</td>\n",
       "      <td>1</td>\n",
       "    </tr>\n",
       "    <tr>\n",
       "      <th>11</th>\n",
       "      <td>0</td>\n",
       "      <td>25</td>\n",
       "    </tr>\n",
       "    <tr>\n",
       "      <th>13</th>\n",
       "      <td>4</td>\n",
       "      <td>0</td>\n",
       "    </tr>\n",
       "  </tbody>\n",
       "</table>\n",
       "</div>"
      ],
      "text/plain": [
       "booking_status                Canceled  Not_Canceled\n",
       "no_of_previous_cancellations                        \n",
       "0                                11869         24068\n",
       "1                                   11           187\n",
       "2                                    0            46\n",
       "3                                    1            42\n",
       "4                                    0            10\n",
       "5                                    0            11\n",
       "6                                    0             1\n",
       "11                                   0            25\n",
       "13                                   4             0"
      ]
     },
     "execution_count": 26,
     "metadata": {},
     "output_type": "execute_result"
    }
   ],
   "source": [
    "table = pd.crosstab(df['no_of_previous_cancellations'], df['booking_status'])\n",
    "table"
   ]
  },
  {
   "cell_type": "code",
   "execution_count": 27,
   "id": "54266a5e",
   "metadata": {},
   "outputs": [
    {
     "data": {
      "text/html": [
       "<div>\n",
       "<style scoped>\n",
       "    .dataframe tbody tr th:only-of-type {\n",
       "        vertical-align: middle;\n",
       "    }\n",
       "\n",
       "    .dataframe tbody tr th {\n",
       "        vertical-align: top;\n",
       "    }\n",
       "\n",
       "    .dataframe thead th {\n",
       "        text-align: right;\n",
       "    }\n",
       "</style>\n",
       "<table border=\"1\" class=\"dataframe\">\n",
       "  <thead>\n",
       "    <tr style=\"text-align: right;\">\n",
       "      <th></th>\n",
       "      <th>repeated_guest</th>\n",
       "    </tr>\n",
       "    <tr>\n",
       "      <th>booking_status</th>\n",
       "      <th></th>\n",
       "    </tr>\n",
       "  </thead>\n",
       "  <tbody>\n",
       "    <tr>\n",
       "      <th>Canceled</th>\n",
       "      <td>11885</td>\n",
       "    </tr>\n",
       "    <tr>\n",
       "      <th>Not_Canceled</th>\n",
       "      <td>24390</td>\n",
       "    </tr>\n",
       "  </tbody>\n",
       "</table>\n",
       "</div>"
      ],
      "text/plain": [
       "                repeated_guest\n",
       "booking_status                \n",
       "Canceled                 11885\n",
       "Not_Canceled             24390"
      ]
     },
     "execution_count": 27,
     "metadata": {},
     "output_type": "execute_result"
    }
   ],
   "source": [
    "df.groupby('booking_status').count()[['repeated_guest']]"
   ]
  },
  {
   "cell_type": "code",
   "execution_count": 28,
   "id": "534277bc",
   "metadata": {},
   "outputs": [
    {
     "data": {
      "text/html": [
       "<div>\n",
       "<style scoped>\n",
       "    .dataframe tbody tr th:only-of-type {\n",
       "        vertical-align: middle;\n",
       "    }\n",
       "\n",
       "    .dataframe tbody tr th {\n",
       "        vertical-align: top;\n",
       "    }\n",
       "\n",
       "    .dataframe thead th {\n",
       "        text-align: right;\n",
       "    }\n",
       "</style>\n",
       "<table border=\"1\" class=\"dataframe\">\n",
       "  <thead>\n",
       "    <tr style=\"text-align: right;\">\n",
       "      <th></th>\n",
       "      <th>repeated_guest</th>\n",
       "    </tr>\n",
       "    <tr>\n",
       "      <th>booking_status</th>\n",
       "      <th></th>\n",
       "    </tr>\n",
       "  </thead>\n",
       "  <tbody>\n",
       "    <tr>\n",
       "      <th>Canceled</th>\n",
       "      <td>16</td>\n",
       "    </tr>\n",
       "    <tr>\n",
       "      <th>Not_Canceled</th>\n",
       "      <td>914</td>\n",
       "    </tr>\n",
       "  </tbody>\n",
       "</table>\n",
       "</div>"
      ],
      "text/plain": [
       "                repeated_guest\n",
       "booking_status                \n",
       "Canceled                    16\n",
       "Not_Canceled               914"
      ]
     },
     "execution_count": 28,
     "metadata": {},
     "output_type": "execute_result"
    }
   ],
   "source": [
    "df.groupby('booking_status').sum()[['repeated_guest']]"
   ]
  },
  {
   "cell_type": "code",
   "execution_count": 29,
   "id": "b61641b3",
   "metadata": {},
   "outputs": [],
   "source": [
    "from sklearn.linear_model import LogisticRegression\n",
    "from sklearn.feature_selection import RFE\n",
    "from sklearn.model_selection import train_test_split\n",
    "from sklearn import preprocessing\n",
    "from sklearn.metrics import confusion_matrix, classification_report\n",
    "from sklearn.metrics import roc_auc_score\n",
    "from sklearn.metrics import roc_curve\n",
    "import statsmodels.api as sm"
   ]
  },
  {
   "cell_type": "code",
   "execution_count": 30,
   "id": "6dd6e13d",
   "metadata": {},
   "outputs": [
    {
     "data": {
      "text/plain": [
       "array(['type_of_meal_plan_Meal Plan 1', 'type_of_meal_plan_Meal Plan 2',\n",
       "       'type_of_meal_plan_Meal Plan 3', 'type_of_meal_plan_Not Selected',\n",
       "       'market_segment_type_Aviation',\n",
       "       'market_segment_type_Complementary',\n",
       "       'market_segment_type_Corporate', 'market_segment_type_Offline',\n",
       "       'market_segment_type_Online', 'room_type_reserved_Room_Type 1',\n",
       "       'room_type_reserved_Room_Type 2', 'room_type_reserved_Room_Type 3',\n",
       "       'room_type_reserved_Room_Type 4', 'room_type_reserved_Room_Type 5',\n",
       "       'room_type_reserved_Room_Type 6', 'room_type_reserved_Room_Type 7'],\n",
       "      dtype=object)"
      ]
     },
     "execution_count": 30,
     "metadata": {},
     "output_type": "execute_result"
    }
   ],
   "source": [
    "from sklearn.preprocessing import OneHotEncoder\n",
    "enc = OneHotEncoder(handle_unknown='ignore')\n",
    "X = df[['type_of_meal_plan', 'market_segment_type', 'room_type_reserved']]\n",
    "Y= enc.fit_transform(X)\n",
    "enc.get_feature_names_out()"
   ]
  },
  {
   "cell_type": "code",
   "execution_count": 31,
   "id": "2e7950b3",
   "metadata": {},
   "outputs": [
    {
     "data": {
      "text/html": [
       "<div>\n",
       "<style scoped>\n",
       "    .dataframe tbody tr th:only-of-type {\n",
       "        vertical-align: middle;\n",
       "    }\n",
       "\n",
       "    .dataframe tbody tr th {\n",
       "        vertical-align: top;\n",
       "    }\n",
       "\n",
       "    .dataframe thead th {\n",
       "        text-align: right;\n",
       "    }\n",
       "</style>\n",
       "<table border=\"1\" class=\"dataframe\">\n",
       "  <thead>\n",
       "    <tr style=\"text-align: right;\">\n",
       "      <th></th>\n",
       "      <th>type_of_meal_plan_Meal Plan 1</th>\n",
       "      <th>type_of_meal_plan_Meal Plan 2</th>\n",
       "      <th>type_of_meal_plan_Meal Plan 3</th>\n",
       "      <th>type_of_meal_plan_Not Selected</th>\n",
       "      <th>market_segment_type_Aviation</th>\n",
       "      <th>market_segment_type_Complementary</th>\n",
       "      <th>market_segment_type_Corporate</th>\n",
       "      <th>market_segment_type_Offline</th>\n",
       "      <th>market_segment_type_Online</th>\n",
       "      <th>room_type_reserved_Room_Type 1</th>\n",
       "      <th>room_type_reserved_Room_Type 2</th>\n",
       "      <th>room_type_reserved_Room_Type 3</th>\n",
       "      <th>room_type_reserved_Room_Type 4</th>\n",
       "      <th>room_type_reserved_Room_Type 5</th>\n",
       "      <th>room_type_reserved_Room_Type 6</th>\n",
       "      <th>room_type_reserved_Room_Type 7</th>\n",
       "    </tr>\n",
       "  </thead>\n",
       "  <tbody>\n",
       "    <tr>\n",
       "      <th>0</th>\n",
       "      <td>1.0</td>\n",
       "      <td>0.0</td>\n",
       "      <td>0.0</td>\n",
       "      <td>0.0</td>\n",
       "      <td>0.0</td>\n",
       "      <td>0.0</td>\n",
       "      <td>0.0</td>\n",
       "      <td>1.0</td>\n",
       "      <td>0.0</td>\n",
       "      <td>1.0</td>\n",
       "      <td>0.0</td>\n",
       "      <td>0.0</td>\n",
       "      <td>0.0</td>\n",
       "      <td>0.0</td>\n",
       "      <td>0.0</td>\n",
       "      <td>0.0</td>\n",
       "    </tr>\n",
       "    <tr>\n",
       "      <th>1</th>\n",
       "      <td>0.0</td>\n",
       "      <td>0.0</td>\n",
       "      <td>0.0</td>\n",
       "      <td>1.0</td>\n",
       "      <td>0.0</td>\n",
       "      <td>0.0</td>\n",
       "      <td>0.0</td>\n",
       "      <td>0.0</td>\n",
       "      <td>1.0</td>\n",
       "      <td>1.0</td>\n",
       "      <td>0.0</td>\n",
       "      <td>0.0</td>\n",
       "      <td>0.0</td>\n",
       "      <td>0.0</td>\n",
       "      <td>0.0</td>\n",
       "      <td>0.0</td>\n",
       "    </tr>\n",
       "    <tr>\n",
       "      <th>2</th>\n",
       "      <td>1.0</td>\n",
       "      <td>0.0</td>\n",
       "      <td>0.0</td>\n",
       "      <td>0.0</td>\n",
       "      <td>0.0</td>\n",
       "      <td>0.0</td>\n",
       "      <td>0.0</td>\n",
       "      <td>0.0</td>\n",
       "      <td>1.0</td>\n",
       "      <td>1.0</td>\n",
       "      <td>0.0</td>\n",
       "      <td>0.0</td>\n",
       "      <td>0.0</td>\n",
       "      <td>0.0</td>\n",
       "      <td>0.0</td>\n",
       "      <td>0.0</td>\n",
       "    </tr>\n",
       "    <tr>\n",
       "      <th>3</th>\n",
       "      <td>1.0</td>\n",
       "      <td>0.0</td>\n",
       "      <td>0.0</td>\n",
       "      <td>0.0</td>\n",
       "      <td>0.0</td>\n",
       "      <td>0.0</td>\n",
       "      <td>0.0</td>\n",
       "      <td>0.0</td>\n",
       "      <td>1.0</td>\n",
       "      <td>1.0</td>\n",
       "      <td>0.0</td>\n",
       "      <td>0.0</td>\n",
       "      <td>0.0</td>\n",
       "      <td>0.0</td>\n",
       "      <td>0.0</td>\n",
       "      <td>0.0</td>\n",
       "    </tr>\n",
       "    <tr>\n",
       "      <th>4</th>\n",
       "      <td>0.0</td>\n",
       "      <td>0.0</td>\n",
       "      <td>0.0</td>\n",
       "      <td>1.0</td>\n",
       "      <td>0.0</td>\n",
       "      <td>0.0</td>\n",
       "      <td>0.0</td>\n",
       "      <td>0.0</td>\n",
       "      <td>1.0</td>\n",
       "      <td>1.0</td>\n",
       "      <td>0.0</td>\n",
       "      <td>0.0</td>\n",
       "      <td>0.0</td>\n",
       "      <td>0.0</td>\n",
       "      <td>0.0</td>\n",
       "      <td>0.0</td>\n",
       "    </tr>\n",
       "    <tr>\n",
       "      <th>...</th>\n",
       "      <td>...</td>\n",
       "      <td>...</td>\n",
       "      <td>...</td>\n",
       "      <td>...</td>\n",
       "      <td>...</td>\n",
       "      <td>...</td>\n",
       "      <td>...</td>\n",
       "      <td>...</td>\n",
       "      <td>...</td>\n",
       "      <td>...</td>\n",
       "      <td>...</td>\n",
       "      <td>...</td>\n",
       "      <td>...</td>\n",
       "      <td>...</td>\n",
       "      <td>...</td>\n",
       "      <td>...</td>\n",
       "    </tr>\n",
       "    <tr>\n",
       "      <th>36270</th>\n",
       "      <td>1.0</td>\n",
       "      <td>0.0</td>\n",
       "      <td>0.0</td>\n",
       "      <td>0.0</td>\n",
       "      <td>0.0</td>\n",
       "      <td>0.0</td>\n",
       "      <td>0.0</td>\n",
       "      <td>0.0</td>\n",
       "      <td>1.0</td>\n",
       "      <td>0.0</td>\n",
       "      <td>0.0</td>\n",
       "      <td>0.0</td>\n",
       "      <td>1.0</td>\n",
       "      <td>0.0</td>\n",
       "      <td>0.0</td>\n",
       "      <td>0.0</td>\n",
       "    </tr>\n",
       "    <tr>\n",
       "      <th>36271</th>\n",
       "      <td>1.0</td>\n",
       "      <td>0.0</td>\n",
       "      <td>0.0</td>\n",
       "      <td>0.0</td>\n",
       "      <td>0.0</td>\n",
       "      <td>0.0</td>\n",
       "      <td>0.0</td>\n",
       "      <td>0.0</td>\n",
       "      <td>1.0</td>\n",
       "      <td>1.0</td>\n",
       "      <td>0.0</td>\n",
       "      <td>0.0</td>\n",
       "      <td>0.0</td>\n",
       "      <td>0.0</td>\n",
       "      <td>0.0</td>\n",
       "      <td>0.0</td>\n",
       "    </tr>\n",
       "    <tr>\n",
       "      <th>36272</th>\n",
       "      <td>1.0</td>\n",
       "      <td>0.0</td>\n",
       "      <td>0.0</td>\n",
       "      <td>0.0</td>\n",
       "      <td>0.0</td>\n",
       "      <td>0.0</td>\n",
       "      <td>0.0</td>\n",
       "      <td>0.0</td>\n",
       "      <td>1.0</td>\n",
       "      <td>1.0</td>\n",
       "      <td>0.0</td>\n",
       "      <td>0.0</td>\n",
       "      <td>0.0</td>\n",
       "      <td>0.0</td>\n",
       "      <td>0.0</td>\n",
       "      <td>0.0</td>\n",
       "    </tr>\n",
       "    <tr>\n",
       "      <th>36273</th>\n",
       "      <td>0.0</td>\n",
       "      <td>0.0</td>\n",
       "      <td>0.0</td>\n",
       "      <td>1.0</td>\n",
       "      <td>0.0</td>\n",
       "      <td>0.0</td>\n",
       "      <td>0.0</td>\n",
       "      <td>0.0</td>\n",
       "      <td>1.0</td>\n",
       "      <td>1.0</td>\n",
       "      <td>0.0</td>\n",
       "      <td>0.0</td>\n",
       "      <td>0.0</td>\n",
       "      <td>0.0</td>\n",
       "      <td>0.0</td>\n",
       "      <td>0.0</td>\n",
       "    </tr>\n",
       "    <tr>\n",
       "      <th>36274</th>\n",
       "      <td>1.0</td>\n",
       "      <td>0.0</td>\n",
       "      <td>0.0</td>\n",
       "      <td>0.0</td>\n",
       "      <td>0.0</td>\n",
       "      <td>0.0</td>\n",
       "      <td>0.0</td>\n",
       "      <td>1.0</td>\n",
       "      <td>0.0</td>\n",
       "      <td>1.0</td>\n",
       "      <td>0.0</td>\n",
       "      <td>0.0</td>\n",
       "      <td>0.0</td>\n",
       "      <td>0.0</td>\n",
       "      <td>0.0</td>\n",
       "      <td>0.0</td>\n",
       "    </tr>\n",
       "  </tbody>\n",
       "</table>\n",
       "<p>36275 rows × 16 columns</p>\n",
       "</div>"
      ],
      "text/plain": [
       "       type_of_meal_plan_Meal Plan 1  type_of_meal_plan_Meal Plan 2  \\\n",
       "0                                1.0                            0.0   \n",
       "1                                0.0                            0.0   \n",
       "2                                1.0                            0.0   \n",
       "3                                1.0                            0.0   \n",
       "4                                0.0                            0.0   \n",
       "...                              ...                            ...   \n",
       "36270                            1.0                            0.0   \n",
       "36271                            1.0                            0.0   \n",
       "36272                            1.0                            0.0   \n",
       "36273                            0.0                            0.0   \n",
       "36274                            1.0                            0.0   \n",
       "\n",
       "       type_of_meal_plan_Meal Plan 3  type_of_meal_plan_Not Selected  \\\n",
       "0                                0.0                             0.0   \n",
       "1                                0.0                             1.0   \n",
       "2                                0.0                             0.0   \n",
       "3                                0.0                             0.0   \n",
       "4                                0.0                             1.0   \n",
       "...                              ...                             ...   \n",
       "36270                            0.0                             0.0   \n",
       "36271                            0.0                             0.0   \n",
       "36272                            0.0                             0.0   \n",
       "36273                            0.0                             1.0   \n",
       "36274                            0.0                             0.0   \n",
       "\n",
       "       market_segment_type_Aviation  market_segment_type_Complementary  \\\n",
       "0                               0.0                                0.0   \n",
       "1                               0.0                                0.0   \n",
       "2                               0.0                                0.0   \n",
       "3                               0.0                                0.0   \n",
       "4                               0.0                                0.0   \n",
       "...                             ...                                ...   \n",
       "36270                           0.0                                0.0   \n",
       "36271                           0.0                                0.0   \n",
       "36272                           0.0                                0.0   \n",
       "36273                           0.0                                0.0   \n",
       "36274                           0.0                                0.0   \n",
       "\n",
       "       market_segment_type_Corporate  market_segment_type_Offline  \\\n",
       "0                                0.0                          1.0   \n",
       "1                                0.0                          0.0   \n",
       "2                                0.0                          0.0   \n",
       "3                                0.0                          0.0   \n",
       "4                                0.0                          0.0   \n",
       "...                              ...                          ...   \n",
       "36270                            0.0                          0.0   \n",
       "36271                            0.0                          0.0   \n",
       "36272                            0.0                          0.0   \n",
       "36273                            0.0                          0.0   \n",
       "36274                            0.0                          1.0   \n",
       "\n",
       "       market_segment_type_Online  room_type_reserved_Room_Type 1  \\\n",
       "0                             0.0                             1.0   \n",
       "1                             1.0                             1.0   \n",
       "2                             1.0                             1.0   \n",
       "3                             1.0                             1.0   \n",
       "4                             1.0                             1.0   \n",
       "...                           ...                             ...   \n",
       "36270                         1.0                             0.0   \n",
       "36271                         1.0                             1.0   \n",
       "36272                         1.0                             1.0   \n",
       "36273                         1.0                             1.0   \n",
       "36274                         0.0                             1.0   \n",
       "\n",
       "       room_type_reserved_Room_Type 2  room_type_reserved_Room_Type 3  \\\n",
       "0                                 0.0                             0.0   \n",
       "1                                 0.0                             0.0   \n",
       "2                                 0.0                             0.0   \n",
       "3                                 0.0                             0.0   \n",
       "4                                 0.0                             0.0   \n",
       "...                               ...                             ...   \n",
       "36270                             0.0                             0.0   \n",
       "36271                             0.0                             0.0   \n",
       "36272                             0.0                             0.0   \n",
       "36273                             0.0                             0.0   \n",
       "36274                             0.0                             0.0   \n",
       "\n",
       "       room_type_reserved_Room_Type 4  room_type_reserved_Room_Type 5  \\\n",
       "0                                 0.0                             0.0   \n",
       "1                                 0.0                             0.0   \n",
       "2                                 0.0                             0.0   \n",
       "3                                 0.0                             0.0   \n",
       "4                                 0.0                             0.0   \n",
       "...                               ...                             ...   \n",
       "36270                             1.0                             0.0   \n",
       "36271                             0.0                             0.0   \n",
       "36272                             0.0                             0.0   \n",
       "36273                             0.0                             0.0   \n",
       "36274                             0.0                             0.0   \n",
       "\n",
       "       room_type_reserved_Room_Type 6  room_type_reserved_Room_Type 7  \n",
       "0                                 0.0                             0.0  \n",
       "1                                 0.0                             0.0  \n",
       "2                                 0.0                             0.0  \n",
       "3                                 0.0                             0.0  \n",
       "4                                 0.0                             0.0  \n",
       "...                               ...                             ...  \n",
       "36270                             0.0                             0.0  \n",
       "36271                             0.0                             0.0  \n",
       "36272                             0.0                             0.0  \n",
       "36273                             0.0                             0.0  \n",
       "36274                             0.0                             0.0  \n",
       "\n",
       "[36275 rows x 16 columns]"
      ]
     },
     "execution_count": 31,
     "metadata": {},
     "output_type": "execute_result"
    }
   ],
   "source": [
    "df1 = pd.DataFrame.sparse.from_spmatrix(Y)\n",
    "df1.columns = enc.get_feature_names_out()\n",
    "df1"
   ]
  },
  {
   "cell_type": "code",
   "execution_count": 32,
   "id": "9aceff90",
   "metadata": {},
   "outputs": [
    {
     "data": {
      "text/plain": [
       "(36275, 17)"
      ]
     },
     "execution_count": 32,
     "metadata": {},
     "output_type": "execute_result"
    }
   ],
   "source": [
    "logreg = LogisticRegression(max_iter = 100)\n",
    "X = df.drop(['booking_status', \"Booking_ID\"], axis = 1)\n",
    "y = df['booking_status'].map({'Canceled': 1, 'Not_Canceled': 0})\n",
    "X.shape"
   ]
  },
  {
   "cell_type": "code",
   "execution_count": 33,
   "id": "a85b13fa",
   "metadata": {},
   "outputs": [],
   "source": [
    "df[df1.columns] = df1[df1.columns]\n",
    "df = df.drop(['type_of_meal_plan', 'market_segment_type', 'room_type_reserved'], axis = 1)"
   ]
  },
  {
   "cell_type": "code",
   "execution_count": 34,
   "id": "59a8b322",
   "metadata": {},
   "outputs": [
    {
     "data": {
      "text/plain": [
       "(36275, 30)"
      ]
     },
     "execution_count": 34,
     "metadata": {},
     "output_type": "execute_result"
    }
   ],
   "source": [
    "logreg = LogisticRegression(max_iter = 100)\n",
    "X = df.drop(['booking_status', \"Booking_ID\"], axis = 1)\n",
    "y = df['booking_status'].map({'Canceled': 1, 'Not_Canceled': 0})\n",
    "X.shape"
   ]
  },
  {
   "cell_type": "code",
   "execution_count": 35,
   "id": "0404f1ef",
   "metadata": {},
   "outputs": [
    {
     "name": "stderr",
     "output_type": "stream",
     "text": [
      "C:\\Users\\kevin\\anaconda3\\lib\\site-packages\\sklearn\\utils\\validation.py:624: UserWarning: pandas.DataFrame with sparse columns found.It will be converted to a dense numpy array.\n",
      "  warnings.warn(\n",
      "C:\\Users\\kevin\\anaconda3\\lib\\site-packages\\sklearn\\utils\\validation.py:624: UserWarning: pandas.DataFrame with sparse columns found.It will be converted to a dense numpy array.\n",
      "  warnings.warn(\n"
     ]
    },
    {
     "name": "stdout",
     "output_type": "stream",
     "text": [
      "Fitting estimator with 30 features.\n",
      "Fitting estimator with 29 features.\n",
      "Fitting estimator with 28 features.\n",
      "Fitting estimator with 27 features.\n",
      "Fitting estimator with 26 features.\n",
      "Fitting estimator with 25 features.\n",
      "Fitting estimator with 24 features.\n",
      "Fitting estimator with 23 features.\n",
      "Fitting estimator with 22 features.\n",
      "Fitting estimator with 21 features.\n",
      "Fitting estimator with 20 features.\n",
      "Fitting estimator with 19 features.\n",
      "Fitting estimator with 18 features.\n",
      "Fitting estimator with 17 features.\n",
      "Fitting estimator with 16 features.\n",
      "Fitting estimator with 15 features.\n",
      "Fitting estimator with 14 features.\n",
      "Fitting estimator with 13 features.\n"
     ]
    }
   ],
   "source": [
    "scaler = preprocessing.StandardScaler().fit(X)\n",
    "X_standard_scaled = scaler.transform(X)\n",
    "rfe = RFE(logreg, n_features_to_select = 12, step = 1, verbose = 1)\n",
    "rfe = rfe.fit(X_standard_scaled, y.values.ravel())"
   ]
  },
  {
   "cell_type": "code",
   "execution_count": 36,
   "id": "eccd7831",
   "metadata": {},
   "outputs": [
    {
     "data": {
      "text/plain": [
       "Index(['no_of_weekend_nights', 'required_car_parking_space', 'lead_time',\n",
       "       'arrival_year', 'repeated_guest',\n",
       "       'no_of_previous_bookings_not_canceled', 'avg_price_per_room',\n",
       "       'no_of_special_requests', 'market_segment_type_Complementary',\n",
       "       'market_segment_type_Offline', 'market_segment_type_Online',\n",
       "       'room_type_reserved_Room_Type 1'],\n",
       "      dtype='object')"
      ]
     },
     "execution_count": 36,
     "metadata": {},
     "output_type": "execute_result"
    }
   ],
   "source": [
    "rfe.support_\n",
    "X_rfe= X.loc[:, rfe.support_]\n",
    "X_rfe.columns"
   ]
  },
  {
   "cell_type": "code",
   "execution_count": 37,
   "id": "1e9fbdaf",
   "metadata": {},
   "outputs": [
    {
     "name": "stderr",
     "output_type": "stream",
     "text": [
      "C:\\Users\\kevin\\anaconda3\\lib\\site-packages\\sklearn\\utils\\validation.py:624: UserWarning: pandas.DataFrame with sparse columns found.It will be converted to a dense numpy array.\n",
      "  warnings.warn(\n",
      "C:\\Users\\kevin\\anaconda3\\lib\\site-packages\\sklearn\\linear_model\\_logistic.py:814: ConvergenceWarning: lbfgs failed to converge (status=1):\n",
      "STOP: TOTAL NO. of ITERATIONS REACHED LIMIT.\n",
      "\n",
      "Increase the number of iterations (max_iter) or scale the data as shown in:\n",
      "    https://scikit-learn.org/stable/modules/preprocessing.html\n",
      "Please also refer to the documentation for alternative solver options:\n",
      "    https://scikit-learn.org/stable/modules/linear_model.html#logistic-regression\n",
      "  n_iter_i = _check_optimize_result(\n",
      "C:\\Users\\kevin\\anaconda3\\lib\\site-packages\\sklearn\\utils\\validation.py:624: UserWarning: pandas.DataFrame with sparse columns found.It will be converted to a dense numpy array.\n",
      "  warnings.warn(\n"
     ]
    }
   ],
   "source": [
    "X_train, X_test, y_train, y_test = train_test_split(X_rfe, y, test_size=0.33, random_state=42)\n",
    "logreg.fit(X_train, y_train.values.ravel())\n",
    "y_pred = logreg.predict(X_test)"
   ]
  },
  {
   "cell_type": "code",
   "execution_count": 38,
   "id": "4ee1fa6e",
   "metadata": {},
   "outputs": [
    {
     "name": "stdout",
     "output_type": "stream",
     "text": [
      "              precision    recall  f1-score   support\n",
      "\n",
      "           0       0.82      0.90      0.86      8010\n",
      "           1       0.75      0.60      0.67      3961\n",
      "\n",
      "    accuracy                           0.80     11971\n",
      "   macro avg       0.79      0.75      0.76     11971\n",
      "weighted avg       0.80      0.80      0.80     11971\n",
      "\n"
     ]
    }
   ],
   "source": [
    "print(classification_report(y_test, y_pred))"
   ]
  },
  {
   "cell_type": "code",
   "execution_count": 39,
   "id": "5970e3e5",
   "metadata": {},
   "outputs": [
    {
     "name": "stderr",
     "output_type": "stream",
     "text": [
      "C:\\Users\\kevin\\anaconda3\\lib\\site-packages\\sklearn\\utils\\validation.py:624: UserWarning: pandas.DataFrame with sparse columns found.It will be converted to a dense numpy array.\n",
      "  warnings.warn(\n",
      "C:\\Users\\kevin\\anaconda3\\lib\\site-packages\\sklearn\\utils\\validation.py:624: UserWarning: pandas.DataFrame with sparse columns found.It will be converted to a dense numpy array.\n",
      "  warnings.warn(\n"
     ]
    },
    {
     "data": {
      "image/png": "[encoded data removed]",
      "text/plain": [
       "<Figure size 432x288 with 1 Axes>"
      ]
     },
     "metadata": {
      "needs_background": "light"
     },
     "output_type": "display_data"
    }
   ],
   "source": [
    "logit_roc_auc = roc_auc_score(y_test, logreg.predict(X_test))\n",
    "fpr, tpr, thresholds = roc_curve(y_test, logreg.predict_proba(X_test)[:,1])\n",
    "plt.figure()\n",
    "plt.plot(fpr, tpr, label='Logistic Regression (area = %0.2f)' % logit_roc_auc)\n",
    "plt.plot([0, 1], [0, 1],'r--')\n",
    "plt.xlim([0.0, 1.0])\n",
    "plt.ylim([0.0, 1.05])\n",
    "plt.xlabel('False Positive Rate')\n",
    "plt.ylabel('True Positive Rate')\n",
    "plt.title('Receiver operating characteristic')\n",
    "plt.legend(loc=\"lower right\")\n",
    "plt.savefig('Log_ROC')\n",
    "plt.show()"
   ]
  }
 ],
 "metadata": {
  "kernelspec": {
   "display_name": "Python 3 (ipykernel)",
   "language": "python",
   "name": "python3"
  },
  "language_info": {
   "codemirror_mode": {
    "name": "ipython",
    "version": 3
   },
   "file_extension": ".py",
   "mimetype": "text/x-python",
   "name": "python",
   "nbconvert_exporter": "python",
   "pygments_lexer": "ipython3",
   "version": "3.9.12"
  }
 },
 "nbformat": 4,
 "nbformat_minor": 5
}
