{
 "cells": [
  {
   "cell_type": "code",
   "execution_count": 1,
   "id": "95333279",
   "metadata": {},
   "outputs": [],
   "source": [
    "import numpy as np\n",
    "import matplotlib.pyplot as plt\n",
    "import seaborn as sns\n",
    "import pandas as pd"
   ]
  },
  {
   "cell_type": "code",
   "execution_count": null,
   "id": "fb47d2c0",
   "metadata": {},
   "outputs": [],
   "source": [
    "#This Dataset is of the Washington D.C Metro crime from the years of 2008 to 2017. The goal is to uncover what the data\n",
    "#Tells us about what crime types and offenses happened in that time frame."
   ]
  },
  {
   "cell_type": "code",
   "execution_count": null,
   "id": "8248ec60",
   "metadata": {},
   "outputs": [],
   "source": [
    "# The file was added and obsearved. "
   ]
  },
  {
   "cell_type": "code",
   "execution_count": 5,
   "id": "d8a9bc85",
   "metadata": {},
   "outputs": [
    {
     "data": {
      "text/html": [
       "<div>\n",
       "<style scoped>\n",
       "    .dataframe tbody tr th:only-of-type {\n",
       "        vertical-align: middle;\n",
       "    }\n",
       "\n",
       "    .dataframe tbody tr th {\n",
       "        vertical-align: top;\n",
       "    }\n",
       "\n",
       "    .dataframe thead th {\n",
       "        text-align: right;\n",
       "    }\n",
       "</style>\n",
       "<table border=\"1\" class=\"dataframe\">\n",
       "  <thead>\n",
       "    <tr style=\"text-align: right;\">\n",
       "      <th></th>\n",
       "      <th>Unnamed: 0</th>\n",
       "      <th>X</th>\n",
       "      <th>REPORT_DAT</th>\n",
       "      <th>SHIFT</th>\n",
       "      <th>OFFENSE</th>\n",
       "      <th>METHOD</th>\n",
       "      <th>BLOCK</th>\n",
       "      <th>DISTRICT</th>\n",
       "      <th>PSA</th>\n",
       "      <th>WARD</th>\n",
       "      <th>...</th>\n",
       "      <th>year</th>\n",
       "      <th>month</th>\n",
       "      <th>day</th>\n",
       "      <th>hour</th>\n",
       "      <th>minute</th>\n",
       "      <th>second</th>\n",
       "      <th>EW</th>\n",
       "      <th>NS</th>\n",
       "      <th>quad</th>\n",
       "      <th>crimetype</th>\n",
       "    </tr>\n",
       "  </thead>\n",
       "  <tbody>\n",
       "    <tr>\n",
       "      <th>0</th>\n",
       "      <td>1</td>\n",
       "      <td>1</td>\n",
       "      <td>8/31/2008 8:47:00 PM</td>\n",
       "      <td>EVENING</td>\n",
       "      <td>THEFT/OTHER</td>\n",
       "      <td>OTHERS</td>\n",
       "      <td>3500 - 3599 BLOCK OF R STREET NW</td>\n",
       "      <td>2.0</td>\n",
       "      <td>206.0</td>\n",
       "      <td>2</td>\n",
       "      <td>...</td>\n",
       "      <td>2008</td>\n",
       "      <td>8</td>\n",
       "      <td>31</td>\n",
       "      <td>20</td>\n",
       "      <td>47</td>\n",
       "      <td>0</td>\n",
       "      <td>West</td>\n",
       "      <td>North</td>\n",
       "      <td>Northwest</td>\n",
       "      <td>Non-Violent</td>\n",
       "    </tr>\n",
       "    <tr>\n",
       "      <th>1</th>\n",
       "      <td>2</td>\n",
       "      <td>2</td>\n",
       "      <td>9/1/2008 12:45:00 AM</td>\n",
       "      <td>MIDNIGHT</td>\n",
       "      <td>MOTOR VEHICLE THEFT</td>\n",
       "      <td>OTHERS</td>\n",
       "      <td>2000 - 2015 BLOCK OF O STREET NW</td>\n",
       "      <td>2.0</td>\n",
       "      <td>208.0</td>\n",
       "      <td>2</td>\n",
       "      <td>...</td>\n",
       "      <td>2008</td>\n",
       "      <td>9</td>\n",
       "      <td>1</td>\n",
       "      <td>0</td>\n",
       "      <td>45</td>\n",
       "      <td>0</td>\n",
       "      <td>West</td>\n",
       "      <td>North</td>\n",
       "      <td>Northwest</td>\n",
       "      <td>Non-Violent</td>\n",
       "    </tr>\n",
       "    <tr>\n",
       "      <th>2</th>\n",
       "      <td>3</td>\n",
       "      <td>3</td>\n",
       "      <td>9/1/2008 3:00:00 AM</td>\n",
       "      <td>MIDNIGHT</td>\n",
       "      <td>THEFT/OTHER</td>\n",
       "      <td>OTHERS</td>\n",
       "      <td>700 - 799 BLOCK OF 11TH STREET NW</td>\n",
       "      <td>1.0</td>\n",
       "      <td>101.0</td>\n",
       "      <td>2</td>\n",
       "      <td>...</td>\n",
       "      <td>2008</td>\n",
       "      <td>9</td>\n",
       "      <td>1</td>\n",
       "      <td>3</td>\n",
       "      <td>0</td>\n",
       "      <td>0</td>\n",
       "      <td>East</td>\n",
       "      <td>North</td>\n",
       "      <td>Northeast</td>\n",
       "      <td>Non-Violent</td>\n",
       "    </tr>\n",
       "    <tr>\n",
       "      <th>3</th>\n",
       "      <td>4</td>\n",
       "      <td>4</td>\n",
       "      <td>9/9/2008 7:46:00 AM</td>\n",
       "      <td>DAY</td>\n",
       "      <td>THEFT/OTHER</td>\n",
       "      <td>OTHERS</td>\n",
       "      <td>1700 - 1799 BLOCK OF P STREET NW</td>\n",
       "      <td>2.0</td>\n",
       "      <td>208.0</td>\n",
       "      <td>2</td>\n",
       "      <td>...</td>\n",
       "      <td>2008</td>\n",
       "      <td>9</td>\n",
       "      <td>9</td>\n",
       "      <td>7</td>\n",
       "      <td>46</td>\n",
       "      <td>0</td>\n",
       "      <td>West</td>\n",
       "      <td>North</td>\n",
       "      <td>Northwest</td>\n",
       "      <td>Non-Violent</td>\n",
       "    </tr>\n",
       "    <tr>\n",
       "      <th>4</th>\n",
       "      <td>5</td>\n",
       "      <td>5</td>\n",
       "      <td>8/24/2008 8:00:00 PM</td>\n",
       "      <td>EVENING</td>\n",
       "      <td>MOTOR VEHICLE THEFT</td>\n",
       "      <td>OTHERS</td>\n",
       "      <td>500 - 599 BLOCK OF INDIANA AVENUE NW</td>\n",
       "      <td>1.0</td>\n",
       "      <td>102.0</td>\n",
       "      <td>2</td>\n",
       "      <td>...</td>\n",
       "      <td>2008</td>\n",
       "      <td>8</td>\n",
       "      <td>24</td>\n",
       "      <td>20</td>\n",
       "      <td>0</td>\n",
       "      <td>0</td>\n",
       "      <td>East</td>\n",
       "      <td>North</td>\n",
       "      <td>Northeast</td>\n",
       "      <td>Non-Violent</td>\n",
       "    </tr>\n",
       "  </tbody>\n",
       "</table>\n",
       "<p>5 rows × 32 columns</p>\n",
       "</div>"
      ],
      "text/plain": [
       "   Unnamed: 0  X            REPORT_DAT     SHIFT              OFFENSE  METHOD  \\\n",
       "0           1  1  8/31/2008 8:47:00 PM   EVENING          THEFT/OTHER  OTHERS   \n",
       "1           2  2  9/1/2008 12:45:00 AM  MIDNIGHT  MOTOR VEHICLE THEFT  OTHERS   \n",
       "2           3  3   9/1/2008 3:00:00 AM  MIDNIGHT          THEFT/OTHER  OTHERS   \n",
       "3           4  4   9/9/2008 7:46:00 AM       DAY          THEFT/OTHER  OTHERS   \n",
       "4           5  5  8/24/2008 8:00:00 PM   EVENING  MOTOR VEHICLE THEFT  OTHERS   \n",
       "\n",
       "                                  BLOCK  DISTRICT    PSA  WARD  ...  year  \\\n",
       "0      3500 - 3599 BLOCK OF R STREET NW       2.0  206.0     2  ...  2008   \n",
       "1      2000 - 2015 BLOCK OF O STREET NW       2.0  208.0     2  ...  2008   \n",
       "2     700 - 799 BLOCK OF 11TH STREET NW       1.0  101.0     2  ...  2008   \n",
       "3      1700 - 1799 BLOCK OF P STREET NW       2.0  208.0     2  ...  2008   \n",
       "4  500 - 599 BLOCK OF INDIANA AVENUE NW       1.0  102.0     2  ...  2008   \n",
       "\n",
       "  month day  hour minute  second    EW     NS       quad    crimetype  \n",
       "0     8  31    20     47       0  West  North  Northwest  Non-Violent  \n",
       "1     9   1     0     45       0  West  North  Northwest  Non-Violent  \n",
       "2     9   1     3      0       0  East  North  Northeast  Non-Violent  \n",
       "3     9   9     7     46       0  West  North  Northwest  Non-Violent  \n",
       "4     8  24    20      0       0  East  North  Northeast  Non-Violent  \n",
       "\n",
       "[5 rows x 32 columns]"
      ]
     },
     "execution_count": 5,
     "metadata": {},
     "output_type": "execute_result"
    }
   ],
   "source": [
    "df = pd.read_csv(r'C:\\Users\\kevin\\OneDrive\\Documents\\dc_crime_add_vars.csv')\n",
    "df.head()"
   ]
  },
  {
   "cell_type": "code",
   "execution_count": 6,
   "id": "260dc4ad",
   "metadata": {},
   "outputs": [
    {
     "name": "stdout",
     "output_type": "stream",
     "text": [
      "<class 'pandas.core.frame.DataFrame'>\n",
      "RangeIndex: 342867 entries, 0 to 342866\n",
      "Data columns (total 32 columns):\n",
      " #   Column                Non-Null Count   Dtype  \n",
      "---  ------                --------------   -----  \n",
      " 0   Unnamed: 0            342867 non-null  int64  \n",
      " 1   X                     342867 non-null  int64  \n",
      " 2   REPORT_DAT            342867 non-null  object \n",
      " 3   SHIFT                 342867 non-null  object \n",
      " 4   OFFENSE               342867 non-null  object \n",
      " 5   METHOD                342867 non-null  object \n",
      " 6   BLOCK                 342867 non-null  object \n",
      " 7   DISTRICT              342667 non-null  float64\n",
      " 8   PSA                   342616 non-null  float64\n",
      " 9   WARD                  342867 non-null  int64  \n",
      " 10  ANC                   342867 non-null  object \n",
      " 11  NEIGHBORHOOD_CLUSTER  338162 non-null  object \n",
      " 12  BLOCK_GROUP           341776 non-null  object \n",
      " 13  CENSUS_TRACT          341776 non-null  float64\n",
      " 14  VOTING_PRECINCT       342783 non-null  object \n",
      " 15  CCN                   342867 non-null  int64  \n",
      " 16  START_DATE            342854 non-null  object \n",
      " 17  END_DATE              331216 non-null  object \n",
      " 18  XBLOCK                342867 non-null  float64\n",
      " 19  YBLOCK                342867 non-null  float64\n",
      " 20  optional              342867 non-null  bool   \n",
      " 21  date                  342867 non-null  object \n",
      " 22  year                  342867 non-null  int64  \n",
      " 23  month                 342867 non-null  int64  \n",
      " 24  day                   342867 non-null  int64  \n",
      " 25  hour                  342867 non-null  int64  \n",
      " 26  minute                342867 non-null  int64  \n",
      " 27  second                342867 non-null  int64  \n",
      " 28  EW                    342867 non-null  object \n",
      " 29  NS                    342867 non-null  object \n",
      " 30  quad                  342867 non-null  object \n",
      " 31  crimetype             342867 non-null  object \n",
      "dtypes: bool(1), float64(5), int64(10), object(16)\n",
      "memory usage: 81.4+ MB\n"
     ]
    }
   ],
   "source": [
    "df.info()"
   ]
  },
  {
   "cell_type": "code",
   "execution_count": 7,
   "id": "329cc042",
   "metadata": {},
   "outputs": [
    {
     "data": {
      "text/html": [
       "<div>\n",
       "<style scoped>\n",
       "    .dataframe tbody tr th:only-of-type {\n",
       "        vertical-align: middle;\n",
       "    }\n",
       "\n",
       "    .dataframe tbody tr th {\n",
       "        vertical-align: top;\n",
       "    }\n",
       "\n",
       "    .dataframe thead th {\n",
       "        text-align: right;\n",
       "    }\n",
       "</style>\n",
       "<table border=\"1\" class=\"dataframe\">\n",
       "  <thead>\n",
       "    <tr style=\"text-align: right;\">\n",
       "      <th></th>\n",
       "      <th>Unnamed: 0</th>\n",
       "      <th>X</th>\n",
       "      <th>REPORT_DAT</th>\n",
       "      <th>SHIFT</th>\n",
       "      <th>OFFENSE</th>\n",
       "      <th>METHOD</th>\n",
       "      <th>BLOCK</th>\n",
       "      <th>DISTRICT</th>\n",
       "      <th>PSA</th>\n",
       "      <th>WARD</th>\n",
       "      <th>...</th>\n",
       "      <th>year</th>\n",
       "      <th>month</th>\n",
       "      <th>day</th>\n",
       "      <th>hour</th>\n",
       "      <th>minute</th>\n",
       "      <th>second</th>\n",
       "      <th>EW</th>\n",
       "      <th>NS</th>\n",
       "      <th>quad</th>\n",
       "      <th>crimetype</th>\n",
       "    </tr>\n",
       "  </thead>\n",
       "  <tbody>\n",
       "    <tr>\n",
       "      <th>0</th>\n",
       "      <td>False</td>\n",
       "      <td>False</td>\n",
       "      <td>False</td>\n",
       "      <td>False</td>\n",
       "      <td>False</td>\n",
       "      <td>False</td>\n",
       "      <td>False</td>\n",
       "      <td>False</td>\n",
       "      <td>False</td>\n",
       "      <td>False</td>\n",
       "      <td>...</td>\n",
       "      <td>False</td>\n",
       "      <td>False</td>\n",
       "      <td>False</td>\n",
       "      <td>False</td>\n",
       "      <td>False</td>\n",
       "      <td>False</td>\n",
       "      <td>False</td>\n",
       "      <td>False</td>\n",
       "      <td>False</td>\n",
       "      <td>False</td>\n",
       "    </tr>\n",
       "    <tr>\n",
       "      <th>1</th>\n",
       "      <td>False</td>\n",
       "      <td>False</td>\n",
       "      <td>False</td>\n",
       "      <td>False</td>\n",
       "      <td>False</td>\n",
       "      <td>False</td>\n",
       "      <td>False</td>\n",
       "      <td>False</td>\n",
       "      <td>False</td>\n",
       "      <td>False</td>\n",
       "      <td>...</td>\n",
       "      <td>False</td>\n",
       "      <td>False</td>\n",
       "      <td>False</td>\n",
       "      <td>False</td>\n",
       "      <td>False</td>\n",
       "      <td>False</td>\n",
       "      <td>False</td>\n",
       "      <td>False</td>\n",
       "      <td>False</td>\n",
       "      <td>False</td>\n",
       "    </tr>\n",
       "    <tr>\n",
       "      <th>2</th>\n",
       "      <td>False</td>\n",
       "      <td>False</td>\n",
       "      <td>False</td>\n",
       "      <td>False</td>\n",
       "      <td>False</td>\n",
       "      <td>False</td>\n",
       "      <td>False</td>\n",
       "      <td>False</td>\n",
       "      <td>False</td>\n",
       "      <td>False</td>\n",
       "      <td>...</td>\n",
       "      <td>False</td>\n",
       "      <td>False</td>\n",
       "      <td>False</td>\n",
       "      <td>False</td>\n",
       "      <td>False</td>\n",
       "      <td>False</td>\n",
       "      <td>False</td>\n",
       "      <td>False</td>\n",
       "      <td>False</td>\n",
       "      <td>False</td>\n",
       "    </tr>\n",
       "    <tr>\n",
       "      <th>3</th>\n",
       "      <td>False</td>\n",
       "      <td>False</td>\n",
       "      <td>False</td>\n",
       "      <td>False</td>\n",
       "      <td>False</td>\n",
       "      <td>False</td>\n",
       "      <td>False</td>\n",
       "      <td>False</td>\n",
       "      <td>False</td>\n",
       "      <td>False</td>\n",
       "      <td>...</td>\n",
       "      <td>False</td>\n",
       "      <td>False</td>\n",
       "      <td>False</td>\n",
       "      <td>False</td>\n",
       "      <td>False</td>\n",
       "      <td>False</td>\n",
       "      <td>False</td>\n",
       "      <td>False</td>\n",
       "      <td>False</td>\n",
       "      <td>False</td>\n",
       "    </tr>\n",
       "    <tr>\n",
       "      <th>4</th>\n",
       "      <td>False</td>\n",
       "      <td>False</td>\n",
       "      <td>False</td>\n",
       "      <td>False</td>\n",
       "      <td>False</td>\n",
       "      <td>False</td>\n",
       "      <td>False</td>\n",
       "      <td>False</td>\n",
       "      <td>False</td>\n",
       "      <td>False</td>\n",
       "      <td>...</td>\n",
       "      <td>False</td>\n",
       "      <td>False</td>\n",
       "      <td>False</td>\n",
       "      <td>False</td>\n",
       "      <td>False</td>\n",
       "      <td>False</td>\n",
       "      <td>False</td>\n",
       "      <td>False</td>\n",
       "      <td>False</td>\n",
       "      <td>False</td>\n",
       "    </tr>\n",
       "    <tr>\n",
       "      <th>...</th>\n",
       "      <td>...</td>\n",
       "      <td>...</td>\n",
       "      <td>...</td>\n",
       "      <td>...</td>\n",
       "      <td>...</td>\n",
       "      <td>...</td>\n",
       "      <td>...</td>\n",
       "      <td>...</td>\n",
       "      <td>...</td>\n",
       "      <td>...</td>\n",
       "      <td>...</td>\n",
       "      <td>...</td>\n",
       "      <td>...</td>\n",
       "      <td>...</td>\n",
       "      <td>...</td>\n",
       "      <td>...</td>\n",
       "      <td>...</td>\n",
       "      <td>...</td>\n",
       "      <td>...</td>\n",
       "      <td>...</td>\n",
       "      <td>...</td>\n",
       "    </tr>\n",
       "    <tr>\n",
       "      <th>342862</th>\n",
       "      <td>False</td>\n",
       "      <td>False</td>\n",
       "      <td>False</td>\n",
       "      <td>False</td>\n",
       "      <td>False</td>\n",
       "      <td>False</td>\n",
       "      <td>False</td>\n",
       "      <td>False</td>\n",
       "      <td>False</td>\n",
       "      <td>False</td>\n",
       "      <td>...</td>\n",
       "      <td>False</td>\n",
       "      <td>False</td>\n",
       "      <td>False</td>\n",
       "      <td>False</td>\n",
       "      <td>False</td>\n",
       "      <td>False</td>\n",
       "      <td>False</td>\n",
       "      <td>False</td>\n",
       "      <td>False</td>\n",
       "      <td>False</td>\n",
       "    </tr>\n",
       "    <tr>\n",
       "      <th>342863</th>\n",
       "      <td>False</td>\n",
       "      <td>False</td>\n",
       "      <td>False</td>\n",
       "      <td>False</td>\n",
       "      <td>False</td>\n",
       "      <td>False</td>\n",
       "      <td>False</td>\n",
       "      <td>False</td>\n",
       "      <td>False</td>\n",
       "      <td>False</td>\n",
       "      <td>...</td>\n",
       "      <td>False</td>\n",
       "      <td>False</td>\n",
       "      <td>False</td>\n",
       "      <td>False</td>\n",
       "      <td>False</td>\n",
       "      <td>False</td>\n",
       "      <td>False</td>\n",
       "      <td>False</td>\n",
       "      <td>False</td>\n",
       "      <td>False</td>\n",
       "    </tr>\n",
       "    <tr>\n",
       "      <th>342864</th>\n",
       "      <td>False</td>\n",
       "      <td>False</td>\n",
       "      <td>False</td>\n",
       "      <td>False</td>\n",
       "      <td>False</td>\n",
       "      <td>False</td>\n",
       "      <td>False</td>\n",
       "      <td>False</td>\n",
       "      <td>False</td>\n",
       "      <td>False</td>\n",
       "      <td>...</td>\n",
       "      <td>False</td>\n",
       "      <td>False</td>\n",
       "      <td>False</td>\n",
       "      <td>False</td>\n",
       "      <td>False</td>\n",
       "      <td>False</td>\n",
       "      <td>False</td>\n",
       "      <td>False</td>\n",
       "      <td>False</td>\n",
       "      <td>False</td>\n",
       "    </tr>\n",
       "    <tr>\n",
       "      <th>342865</th>\n",
       "      <td>False</td>\n",
       "      <td>False</td>\n",
       "      <td>False</td>\n",
       "      <td>False</td>\n",
       "      <td>False</td>\n",
       "      <td>False</td>\n",
       "      <td>False</td>\n",
       "      <td>False</td>\n",
       "      <td>False</td>\n",
       "      <td>False</td>\n",
       "      <td>...</td>\n",
       "      <td>False</td>\n",
       "      <td>False</td>\n",
       "      <td>False</td>\n",
       "      <td>False</td>\n",
       "      <td>False</td>\n",
       "      <td>False</td>\n",
       "      <td>False</td>\n",
       "      <td>False</td>\n",
       "      <td>False</td>\n",
       "      <td>False</td>\n",
       "    </tr>\n",
       "    <tr>\n",
       "      <th>342866</th>\n",
       "      <td>False</td>\n",
       "      <td>False</td>\n",
       "      <td>False</td>\n",
       "      <td>False</td>\n",
       "      <td>False</td>\n",
       "      <td>False</td>\n",
       "      <td>False</td>\n",
       "      <td>False</td>\n",
       "      <td>False</td>\n",
       "      <td>False</td>\n",
       "      <td>...</td>\n",
       "      <td>False</td>\n",
       "      <td>False</td>\n",
       "      <td>False</td>\n",
       "      <td>False</td>\n",
       "      <td>False</td>\n",
       "      <td>False</td>\n",
       "      <td>False</td>\n",
       "      <td>False</td>\n",
       "      <td>False</td>\n",
       "      <td>False</td>\n",
       "    </tr>\n",
       "  </tbody>\n",
       "</table>\n",
       "<p>342867 rows × 32 columns</p>\n",
       "</div>"
      ],
      "text/plain": [
       "        Unnamed: 0      X  REPORT_DAT  SHIFT  OFFENSE  METHOD  BLOCK  \\\n",
       "0            False  False       False  False    False   False  False   \n",
       "1            False  False       False  False    False   False  False   \n",
       "2            False  False       False  False    False   False  False   \n",
       "3            False  False       False  False    False   False  False   \n",
       "4            False  False       False  False    False   False  False   \n",
       "...            ...    ...         ...    ...      ...     ...    ...   \n",
       "342862       False  False       False  False    False   False  False   \n",
       "342863       False  False       False  False    False   False  False   \n",
       "342864       False  False       False  False    False   False  False   \n",
       "342865       False  False       False  False    False   False  False   \n",
       "342866       False  False       False  False    False   False  False   \n",
       "\n",
       "        DISTRICT    PSA   WARD  ...   year  month    day   hour  minute  \\\n",
       "0          False  False  False  ...  False  False  False  False   False   \n",
       "1          False  False  False  ...  False  False  False  False   False   \n",
       "2          False  False  False  ...  False  False  False  False   False   \n",
       "3          False  False  False  ...  False  False  False  False   False   \n",
       "4          False  False  False  ...  False  False  False  False   False   \n",
       "...          ...    ...    ...  ...    ...    ...    ...    ...     ...   \n",
       "342862     False  False  False  ...  False  False  False  False   False   \n",
       "342863     False  False  False  ...  False  False  False  False   False   \n",
       "342864     False  False  False  ...  False  False  False  False   False   \n",
       "342865     False  False  False  ...  False  False  False  False   False   \n",
       "342866     False  False  False  ...  False  False  False  False   False   \n",
       "\n",
       "        second     EW     NS   quad  crimetype  \n",
       "0        False  False  False  False      False  \n",
       "1        False  False  False  False      False  \n",
       "2        False  False  False  False      False  \n",
       "3        False  False  False  False      False  \n",
       "4        False  False  False  False      False  \n",
       "...        ...    ...    ...    ...        ...  \n",
       "342862   False  False  False  False      False  \n",
       "342863   False  False  False  False      False  \n",
       "342864   False  False  False  False      False  \n",
       "342865   False  False  False  False      False  \n",
       "342866   False  False  False  False      False  \n",
       "\n",
       "[342867 rows x 32 columns]"
      ]
     },
     "execution_count": 7,
     "metadata": {},
     "output_type": "execute_result"
    }
   ],
   "source": [
    "df.isna()"
   ]
  },
  {
   "cell_type": "code",
   "execution_count": 9,
   "id": "0a19ca00",
   "metadata": {},
   "outputs": [
    {
     "name": "stdout",
     "output_type": "stream",
     "text": [
      "There are: 342867 rows.\n",
      "There are: 32 columns.\n"
     ]
    }
   ],
   "source": [
    "print(\"There are:\", df.shape[0], 'rows.')\n",
    "print(\"There are:\", df.shape[1], 'columns.')"
   ]
  },
  {
   "cell_type": "code",
   "execution_count": null,
   "id": "59475a8a",
   "metadata": {},
   "outputs": [],
   "source": [
    "# Next varios plots were created to anayize the data."
   ]
  },
  {
   "cell_type": "code",
   "execution_count": 12,
   "id": "16af31b3",
   "metadata": {},
   "outputs": [
    {
     "name": "stderr",
     "output_type": "stream",
     "text": [
      "C:\\Users\\kevin\\anaconda3\\lib\\site-packages\\seaborn\\categorical.py:3717: UserWarning: The `factorplot` function has been renamed to `catplot`. The original name will be removed in a future release. Please update your code. Note that the default `kind` in `factorplot` (`'point'`) has changed `'strip'` in `catplot`.\n",
      "  warnings.warn(msg)\n",
      "C:\\Users\\kevin\\anaconda3\\lib\\site-packages\\seaborn\\categorical.py:3723: UserWarning: The `size` parameter has been renamed to `height`; please update your code.\n",
      "  warnings.warn(msg, UserWarning)\n"
     ]
    },
    {
     "data": {
      "text/plain": [
       "<seaborn.axisgrid.FacetGrid at 0x18ac3bfc430>"
      ]
     },
     "execution_count": 12,
     "metadata": {},
     "output_type": "execute_result"
    },
    {
     "data": {
      "image/png": "[encoded data removed]",
      "text/plain": [
       "<Figure size 432x432 with 1 Axes>"
      ]
     },
     "metadata": {
      "needs_background": "light"
     },
     "output_type": "display_data"
    }
   ],
   "source": [
    "g = sns.factorplot(x='OFFENSE', data=df, kind='count', size=6)\n",
    "g.set_axis_labels('Offense', 'Number of Crimes')\n",
    "g.set_xticklabels(rotation=90)"
   ]
  },
  {
   "cell_type": "code",
   "execution_count": null,
   "id": "aac791c4",
   "metadata": {},
   "outputs": [],
   "source": [
    "#Theft is by far the highest commited crime in the metro"
   ]
  },
  {
   "cell_type": "code",
   "execution_count": 13,
   "id": "63add52f",
   "metadata": {},
   "outputs": [
    {
     "name": "stderr",
     "output_type": "stream",
     "text": [
      "C:\\Users\\kevin\\anaconda3\\lib\\site-packages\\seaborn\\categorical.py:3717: UserWarning: The `factorplot` function has been renamed to `catplot`. The original name will be removed in a future release. Please update your code. Note that the default `kind` in `factorplot` (`'point'`) has changed `'strip'` in `catplot`.\n",
      "  warnings.warn(msg)\n",
      "C:\\Users\\kevin\\anaconda3\\lib\\site-packages\\seaborn\\categorical.py:3723: UserWarning: The `size` parameter has been renamed to `height`; please update your code.\n",
      "  warnings.warn(msg, UserWarning)\n"
     ]
    },
    {
     "data": {
      "text/plain": [
       "<seaborn.axisgrid.FacetGrid at 0x18ac4faedf0>"
      ]
     },
     "execution_count": 13,
     "metadata": {},
     "output_type": "execute_result"
    },
    {
     "data": {
      "image/png": "[encoded data removed]",
      "text/plain": [
       "<Figure size 639.875x432 with 1 Axes>"
      ]
     },
     "metadata": {
      "needs_background": "light"
     },
     "output_type": "display_data"
    }
   ],
   "source": [
    "g = sns.factorplot(x=\"year\", hue=\"OFFENSE\", data=df, size=6, kind=\"count\")\n",
    "g.set_axis_labels('Year', 'Number of Crimes')"
   ]
  },
  {
   "cell_type": "code",
   "execution_count": null,
   "id": "da1f64a0",
   "metadata": {},
   "outputs": [],
   "source": [
    "#The year 2008 has the most commited crime during this time spand"
   ]
  },
  {
   "cell_type": "code",
   "execution_count": 17,
   "id": "620a8cfb",
   "metadata": {},
   "outputs": [
    {
     "data": {
      "text/plain": [
       "<seaborn.axisgrid.FacetGrid at 0x18aa2c2dca0>"
      ]
     },
     "execution_count": 17,
     "metadata": {},
     "output_type": "execute_result"
    },
    {
     "data": {
      "image/png": "[encoded data removed]",
      "text/plain": [
       "<Figure size 432x432 with 1 Axes>"
      ]
     },
     "metadata": {
      "needs_background": "light"
     },
     "output_type": "display_data"
    }
   ],
   "source": [
    "g = sns.factorplot(x='month', data=df, kind='count', size=6)\n",
    "g.set_axis_labels('Month', 'Number of Crimes')"
   ]
  },
  {
   "cell_type": "code",
   "execution_count": 21,
   "id": "c49725c7",
   "metadata": {},
   "outputs": [
    {
     "name": "stderr",
     "output_type": "stream",
     "text": [
      "C:\\Users\\kevin\\anaconda3\\lib\\site-packages\\seaborn\\categorical.py:3717: UserWarning: The `factorplot` function has been renamed to `catplot`. The original name will be removed in a future release. Please update your code. Note that the default `kind` in `factorplot` (`'point'`) has changed `'strip'` in `catplot`.\n",
      "  warnings.warn(msg)\n",
      "C:\\Users\\kevin\\anaconda3\\lib\\site-packages\\seaborn\\categorical.py:3723: UserWarning: The `size` parameter has been renamed to `height`; please update your code.\n",
      "  warnings.warn(msg, UserWarning)\n"
     ]
    },
    {
     "data": {
      "text/plain": [
       "<seaborn.axisgrid.FacetGrid at 0x18aab03a430>"
      ]
     },
     "execution_count": 21,
     "metadata": {},
     "output_type": "execute_result"
    },
    {
     "data": {
      "image/png": "[encoded data removed]",
      "text/plain": [
       "<Figure size 1533.62x1440 with 1 Axes>"
      ]
     },
     "metadata": {
      "needs_background": "light"
     },
     "output_type": "display_data"
    }
   ],
   "source": [
    "g = sns.factorplot(x='OFFENSE', hue=\"crimetype\", data=df, kind='count', size=20)\n",
    "g.set_axis_labels('Offense', 'Number of Crimes')"
   ]
  },
  {
   "cell_type": "code",
   "execution_count": 24,
   "id": "4f73049d",
   "metadata": {},
   "outputs": [
    {
     "name": "stderr",
     "output_type": "stream",
     "text": [
      "C:\\Users\\kevin\\anaconda3\\lib\\site-packages\\seaborn\\categorical.py:3717: UserWarning: The `factorplot` function has been renamed to `catplot`. The original name will be removed in a future release. Please update your code. Note that the default `kind` in `factorplot` (`'point'`) has changed `'strip'` in `catplot`.\n",
      "  warnings.warn(msg)\n",
      "C:\\Users\\kevin\\anaconda3\\lib\\site-packages\\seaborn\\categorical.py:3723: UserWarning: The `size` parameter has been renamed to `height`; please update your code.\n",
      "  warnings.warn(msg, UserWarning)\n"
     ]
    },
    {
     "data": {
      "text/plain": [
       "<seaborn.axisgrid.FacetGrid at 0x18aa42fda00>"
      ]
     },
     "execution_count": 24,
     "metadata": {},
     "output_type": "execute_result"
    },
    {
     "data": {
      "image/png": "[encoded data removed]",
      "text/plain": [
       "<Figure size 432x432 with 1 Axes>"
      ]
     },
     "metadata": {
      "needs_background": "light"
     },
     "output_type": "display_data"
    }
   ],
   "source": [
    "g = sns.factorplot(x='crimetype', data=df, kind='count', size=6)\n",
    "g.set_axis_labels('Violent vs Non-violent', 'Number of Crimes')"
   ]
  },
  {
   "cell_type": "code",
   "execution_count": null,
   "id": "db818cab",
   "metadata": {},
   "outputs": [],
   "source": [
    "#I conclude that There are more non-violent crimes commited in the DC Metro and that there were greater amount of crimes that\n",
    "#occured in the year 2008 then any other in the dataset. Also there was only a slieght diffrence in crimes commited each month."
   ]
  },
  {
   "cell_type": "code",
   "execution_count": null,
   "id": "cdcc1d5a",
   "metadata": {},
   "outputs": [],
   "source": []
  }
 ],
 "metadata": {
  "kernelspec": {
   "display_name": "Python 3 (ipykernel)",
   "language": "python",
   "name": "python3"
  },
  "language_info": {
   "codemirror_mode": {
    "name": "ipython",
    "version": 3
   },
   "file_extension": ".py",
   "mimetype": "text/x-python",
   "name": "python",
   "nbconvert_exporter": "python",
   "pygments_lexer": "ipython3",
   "version": "3.9.12"
  }
 },
 "nbformat": 4,
 "nbformat_minor": 5
}
